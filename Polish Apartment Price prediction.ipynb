{
  "nbformat": 4,
  "nbformat_minor": 0,
  "metadata": {
    "colab": {
      "provenance": []
    },
    "kernelspec": {
      "name": "python3",
      "display_name": "Python 3"
    },
    "language_info": {
      "name": "python"
    }
  },
  "cells": [
    {
      "cell_type": "markdown",
      "source": [
        "Adat betölrés"
      ],
      "metadata": {
        "id": "wpolu1R6aufU"
      }
    },
    {
      "cell_type": "code",
      "execution_count": null,
      "metadata": {
        "id": "-n0ci-fQO_nL"
      },
      "outputs": [],
      "source": [
        "import pandas as pd\n",
        "import numpy as np\n",
        "import seaborn as sns\n",
        "import matplotlib\n",
        "import matplotlib.pyplot as plt"
      ]
    },
    {
      "cell_type": "code",
      "source": [
        "from pydrive.auth import GoogleAuth\n",
        "from google.colab import drive\n",
        "from pydrive.drive import GoogleDrive\n",
        "from google.colab import auth\n",
        "from oauth2client.client import GoogleCredentials"
      ],
      "metadata": {
        "id": "7ZTMa85hPM6u",
        "colab": {
          "base_uri": "https://localhost:8080/"
        },
        "outputId": "33f2399f-250e-4a66-ef18-490813a7fada"
      },
      "execution_count": null,
      "outputs": [
        {
          "output_type": "stream",
          "name": "stderr",
          "text": [
            "WARNING:root:pydrive is deprecated and no longer maintained. We recommend that you migrate your projects to pydrive2, the maintained fork of pydrive\n"
          ]
        }
      ]
    },
    {
      "cell_type": "code",
      "source": [
        "auth.authenticate_user()\n",
        "gauth = GoogleAuth()\n",
        "gauth.credentials = GoogleCredentials.get_application_default()\n",
        "drive = GoogleDrive(gauth)"
      ],
      "metadata": {
        "id": "5f2EGGLMPX6u"
      },
      "execution_count": null,
      "outputs": []
    },
    {
      "cell_type": "code",
      "source": [
        "\n",
        "#file_id2 = '19PHNqp17cr9A__kb0aWufz1zZ8J6gGps'\n",
        "file_id3 = '1r_FUlmiCNkyR4wClU7RbTevJtkAI9m0i'\n",
        "\n",
        "#download = drive.CreateFile({'id': file_id2})\n",
        "\n",
        "# Download the file to a local disc\n",
        "#download.GetContentFile('apartments_pl_2023_09.csv')\n",
        "\n",
        "#load data\n",
        "#df_september  = pd.read_csv(\"apartments_pl_2023_09.csv\")\n",
        "#df_september.head()\n",
        "\n",
        "download = drive.CreateFile({'id': file_id3})\n",
        "\n",
        "# Download the file to a local disc\n",
        "download.GetContentFile('apartments_pl_2023_10.csv')\n",
        "\n",
        "#load data\n",
        "df_october  = pd.read_csv(\"apartments_pl_2023_10.csv\")\n",
        "df_october.head()"
      ],
      "metadata": {
        "colab": {
          "base_uri": "https://localhost:8080/",
          "height": 255
        },
        "id": "RQcSOosuQKmt",
        "outputId": "69200995-4489-45d4-a60d-f6bcaaa5dcda"
      },
      "execution_count": null,
      "outputs": [
        {
          "output_type": "execute_result",
          "data": {
            "text/plain": [
              "                                 id      city               type  \\\n",
              "0  23d558163bb1c7863c73485048e50858  szczecin                NaN   \n",
              "1  8373aa373dbc3fe7ca3b7434166b8766  szczecin           tenement   \n",
              "2  ede1c0d953ff85f3cd9676d39ca8f62d  szczecin       blockOfFlats   \n",
              "3  6c807c6c86a74c57a3fd4445a1f49a46  szczecin  apartmentBuilding   \n",
              "4  bb14c9a540275da73f6cb6ed42e5c26c  szczecin  apartmentBuilding   \n",
              "\n",
              "   squareMeters  rooms  floor  floorCount  buildYear   latitude  longitude  \\\n",
              "0         53.80    2.0    5.0         5.0        NaN  53.429429  14.554642   \n",
              "1         73.02    3.0    2.0         3.0        NaN  53.452222  14.553333   \n",
              "2         37.00    2.0    8.0        10.0     1970.0  53.442692  14.559690   \n",
              "3         48.00    2.0    4.0         6.0        NaN  53.435461  14.570436   \n",
              "4         55.19    2.0    1.0         2.0     2013.0  53.482094  14.542574   \n",
              "\n",
              "   ...  pharmacyDistance    ownership  buildingMaterial  condition  \\\n",
              "0  ...             0.073  cooperative               NaN        NaN   \n",
              "1  ...             0.280  condominium             brick        NaN   \n",
              "2  ...             0.205  cooperative      concreteSlab        NaN   \n",
              "3  ...             0.177  condominium             brick        NaN   \n",
              "4  ...             0.043  condominium             brick    premium   \n",
              "\n",
              "   hasParkingSpace  hasBalcony  hasElevator  hasSecurity  hasStorageRoom  \\\n",
              "0               no          no          yes           no              no   \n",
              "1               no          no           no           no              no   \n",
              "2               no         yes          yes          yes             yes   \n",
              "3               no         yes           no           no              no   \n",
              "4              yes         yes           no          yes             yes   \n",
              "\n",
              "    price  \n",
              "0  420000  \n",
              "1  565000  \n",
              "2  429995  \n",
              "3  550000  \n",
              "4  607000  \n",
              "\n",
              "[5 rows x 28 columns]"
            ],
            "text/html": [
              "\n",
              "  <div id=\"df-97546013-78fb-4e86-b671-f64da0f7f039\" class=\"colab-df-container\">\n",
              "    <div>\n",
              "<style scoped>\n",
              "    .dataframe tbody tr th:only-of-type {\n",
              "        vertical-align: middle;\n",
              "    }\n",
              "\n",
              "    .dataframe tbody tr th {\n",
              "        vertical-align: top;\n",
              "    }\n",
              "\n",
              "    .dataframe thead th {\n",
              "        text-align: right;\n",
              "    }\n",
              "</style>\n",
              "<table border=\"1\" class=\"dataframe\">\n",
              "  <thead>\n",
              "    <tr style=\"text-align: right;\">\n",
              "      <th></th>\n",
              "      <th>id</th>\n",
              "      <th>city</th>\n",
              "      <th>type</th>\n",
              "      <th>squareMeters</th>\n",
              "      <th>rooms</th>\n",
              "      <th>floor</th>\n",
              "      <th>floorCount</th>\n",
              "      <th>buildYear</th>\n",
              "      <th>latitude</th>\n",
              "      <th>longitude</th>\n",
              "      <th>...</th>\n",
              "      <th>pharmacyDistance</th>\n",
              "      <th>ownership</th>\n",
              "      <th>buildingMaterial</th>\n",
              "      <th>condition</th>\n",
              "      <th>hasParkingSpace</th>\n",
              "      <th>hasBalcony</th>\n",
              "      <th>hasElevator</th>\n",
              "      <th>hasSecurity</th>\n",
              "      <th>hasStorageRoom</th>\n",
              "      <th>price</th>\n",
              "    </tr>\n",
              "  </thead>\n",
              "  <tbody>\n",
              "    <tr>\n",
              "      <th>0</th>\n",
              "      <td>23d558163bb1c7863c73485048e50858</td>\n",
              "      <td>szczecin</td>\n",
              "      <td>NaN</td>\n",
              "      <td>53.80</td>\n",
              "      <td>2.0</td>\n",
              "      <td>5.0</td>\n",
              "      <td>5.0</td>\n",
              "      <td>NaN</td>\n",
              "      <td>53.429429</td>\n",
              "      <td>14.554642</td>\n",
              "      <td>...</td>\n",
              "      <td>0.073</td>\n",
              "      <td>cooperative</td>\n",
              "      <td>NaN</td>\n",
              "      <td>NaN</td>\n",
              "      <td>no</td>\n",
              "      <td>no</td>\n",
              "      <td>yes</td>\n",
              "      <td>no</td>\n",
              "      <td>no</td>\n",
              "      <td>420000</td>\n",
              "    </tr>\n",
              "    <tr>\n",
              "      <th>1</th>\n",
              "      <td>8373aa373dbc3fe7ca3b7434166b8766</td>\n",
              "      <td>szczecin</td>\n",
              "      <td>tenement</td>\n",
              "      <td>73.02</td>\n",
              "      <td>3.0</td>\n",
              "      <td>2.0</td>\n",
              "      <td>3.0</td>\n",
              "      <td>NaN</td>\n",
              "      <td>53.452222</td>\n",
              "      <td>14.553333</td>\n",
              "      <td>...</td>\n",
              "      <td>0.280</td>\n",
              "      <td>condominium</td>\n",
              "      <td>brick</td>\n",
              "      <td>NaN</td>\n",
              "      <td>no</td>\n",
              "      <td>no</td>\n",
              "      <td>no</td>\n",
              "      <td>no</td>\n",
              "      <td>no</td>\n",
              "      <td>565000</td>\n",
              "    </tr>\n",
              "    <tr>\n",
              "      <th>2</th>\n",
              "      <td>ede1c0d953ff85f3cd9676d39ca8f62d</td>\n",
              "      <td>szczecin</td>\n",
              "      <td>blockOfFlats</td>\n",
              "      <td>37.00</td>\n",
              "      <td>2.0</td>\n",
              "      <td>8.0</td>\n",
              "      <td>10.0</td>\n",
              "      <td>1970.0</td>\n",
              "      <td>53.442692</td>\n",
              "      <td>14.559690</td>\n",
              "      <td>...</td>\n",
              "      <td>0.205</td>\n",
              "      <td>cooperative</td>\n",
              "      <td>concreteSlab</td>\n",
              "      <td>NaN</td>\n",
              "      <td>no</td>\n",
              "      <td>yes</td>\n",
              "      <td>yes</td>\n",
              "      <td>yes</td>\n",
              "      <td>yes</td>\n",
              "      <td>429995</td>\n",
              "    </tr>\n",
              "    <tr>\n",
              "      <th>3</th>\n",
              "      <td>6c807c6c86a74c57a3fd4445a1f49a46</td>\n",
              "      <td>szczecin</td>\n",
              "      <td>apartmentBuilding</td>\n",
              "      <td>48.00</td>\n",
              "      <td>2.0</td>\n",
              "      <td>4.0</td>\n",
              "      <td>6.0</td>\n",
              "      <td>NaN</td>\n",
              "      <td>53.435461</td>\n",
              "      <td>14.570436</td>\n",
              "      <td>...</td>\n",
              "      <td>0.177</td>\n",
              "      <td>condominium</td>\n",
              "      <td>brick</td>\n",
              "      <td>NaN</td>\n",
              "      <td>no</td>\n",
              "      <td>yes</td>\n",
              "      <td>no</td>\n",
              "      <td>no</td>\n",
              "      <td>no</td>\n",
              "      <td>550000</td>\n",
              "    </tr>\n",
              "    <tr>\n",
              "      <th>4</th>\n",
              "      <td>bb14c9a540275da73f6cb6ed42e5c26c</td>\n",
              "      <td>szczecin</td>\n",
              "      <td>apartmentBuilding</td>\n",
              "      <td>55.19</td>\n",
              "      <td>2.0</td>\n",
              "      <td>1.0</td>\n",
              "      <td>2.0</td>\n",
              "      <td>2013.0</td>\n",
              "      <td>53.482094</td>\n",
              "      <td>14.542574</td>\n",
              "      <td>...</td>\n",
              "      <td>0.043</td>\n",
              "      <td>condominium</td>\n",
              "      <td>brick</td>\n",
              "      <td>premium</td>\n",
              "      <td>yes</td>\n",
              "      <td>yes</td>\n",
              "      <td>no</td>\n",
              "      <td>yes</td>\n",
              "      <td>yes</td>\n",
              "      <td>607000</td>\n",
              "    </tr>\n",
              "  </tbody>\n",
              "</table>\n",
              "<p>5 rows × 28 columns</p>\n",
              "</div>\n",
              "    <div class=\"colab-df-buttons\">\n",
              "\n",
              "  <div class=\"colab-df-container\">\n",
              "    <button class=\"colab-df-convert\" onclick=\"convertToInteractive('df-97546013-78fb-4e86-b671-f64da0f7f039')\"\n",
              "            title=\"Convert this dataframe to an interactive table.\"\n",
              "            style=\"display:none;\">\n",
              "\n",
              "  <svg xmlns=\"http://www.w3.org/2000/svg\" height=\"24px\" viewBox=\"0 -960 960 960\">\n",
              "    <path d=\"M120-120v-720h720v720H120Zm60-500h600v-160H180v160Zm220 220h160v-160H400v160Zm0 220h160v-160H400v160ZM180-400h160v-160H180v160Zm440 0h160v-160H620v160ZM180-180h160v-160H180v160Zm440 0h160v-160H620v160Z\"/>\n",
              "  </svg>\n",
              "    </button>\n",
              "\n",
              "  <style>\n",
              "    .colab-df-container {\n",
              "      display:flex;\n",
              "      gap: 12px;\n",
              "    }\n",
              "\n",
              "    .colab-df-convert {\n",
              "      background-color: #E8F0FE;\n",
              "      border: none;\n",
              "      border-radius: 50%;\n",
              "      cursor: pointer;\n",
              "      display: none;\n",
              "      fill: #1967D2;\n",
              "      height: 32px;\n",
              "      padding: 0 0 0 0;\n",
              "      width: 32px;\n",
              "    }\n",
              "\n",
              "    .colab-df-convert:hover {\n",
              "      background-color: #E2EBFA;\n",
              "      box-shadow: 0px 1px 2px rgba(60, 64, 67, 0.3), 0px 1px 3px 1px rgba(60, 64, 67, 0.15);\n",
              "      fill: #174EA6;\n",
              "    }\n",
              "\n",
              "    .colab-df-buttons div {\n",
              "      margin-bottom: 4px;\n",
              "    }\n",
              "\n",
              "    [theme=dark] .colab-df-convert {\n",
              "      background-color: #3B4455;\n",
              "      fill: #D2E3FC;\n",
              "    }\n",
              "\n",
              "    [theme=dark] .colab-df-convert:hover {\n",
              "      background-color: #434B5C;\n",
              "      box-shadow: 0px 1px 3px 1px rgba(0, 0, 0, 0.15);\n",
              "      filter: drop-shadow(0px 1px 2px rgba(0, 0, 0, 0.3));\n",
              "      fill: #FFFFFF;\n",
              "    }\n",
              "  </style>\n",
              "\n",
              "    <script>\n",
              "      const buttonEl =\n",
              "        document.querySelector('#df-97546013-78fb-4e86-b671-f64da0f7f039 button.colab-df-convert');\n",
              "      buttonEl.style.display =\n",
              "        google.colab.kernel.accessAllowed ? 'block' : 'none';\n",
              "\n",
              "      async function convertToInteractive(key) {\n",
              "        const element = document.querySelector('#df-97546013-78fb-4e86-b671-f64da0f7f039');\n",
              "        const dataTable =\n",
              "          await google.colab.kernel.invokeFunction('convertToInteractive',\n",
              "                                                    [key], {});\n",
              "        if (!dataTable) return;\n",
              "\n",
              "        const docLinkHtml = 'Like what you see? Visit the ' +\n",
              "          '<a target=\"_blank\" href=https://colab.research.google.com/notebooks/data_table.ipynb>data table notebook</a>'\n",
              "          + ' to learn more about interactive tables.';\n",
              "        element.innerHTML = '';\n",
              "        dataTable['output_type'] = 'display_data';\n",
              "        await google.colab.output.renderOutput(dataTable, element);\n",
              "        const docLink = document.createElement('div');\n",
              "        docLink.innerHTML = docLinkHtml;\n",
              "        element.appendChild(docLink);\n",
              "      }\n",
              "    </script>\n",
              "  </div>\n",
              "\n",
              "\n",
              "<div id=\"df-a86b3311-572c-4edd-bafa-cdb71dd8312b\">\n",
              "  <button class=\"colab-df-quickchart\" onclick=\"quickchart('df-a86b3311-572c-4edd-bafa-cdb71dd8312b')\"\n",
              "            title=\"Suggest charts\"\n",
              "            style=\"display:none;\">\n",
              "\n",
              "<svg xmlns=\"http://www.w3.org/2000/svg\" height=\"24px\"viewBox=\"0 0 24 24\"\n",
              "     width=\"24px\">\n",
              "    <g>\n",
              "        <path d=\"M19 3H5c-1.1 0-2 .9-2 2v14c0 1.1.9 2 2 2h14c1.1 0 2-.9 2-2V5c0-1.1-.9-2-2-2zM9 17H7v-7h2v7zm4 0h-2V7h2v10zm4 0h-2v-4h2v4z\"/>\n",
              "    </g>\n",
              "</svg>\n",
              "  </button>\n",
              "\n",
              "<style>\n",
              "  .colab-df-quickchart {\n",
              "      --bg-color: #E8F0FE;\n",
              "      --fill-color: #1967D2;\n",
              "      --hover-bg-color: #E2EBFA;\n",
              "      --hover-fill-color: #174EA6;\n",
              "      --disabled-fill-color: #AAA;\n",
              "      --disabled-bg-color: #DDD;\n",
              "  }\n",
              "\n",
              "  [theme=dark] .colab-df-quickchart {\n",
              "      --bg-color: #3B4455;\n",
              "      --fill-color: #D2E3FC;\n",
              "      --hover-bg-color: #434B5C;\n",
              "      --hover-fill-color: #FFFFFF;\n",
              "      --disabled-bg-color: #3B4455;\n",
              "      --disabled-fill-color: #666;\n",
              "  }\n",
              "\n",
              "  .colab-df-quickchart {\n",
              "    background-color: var(--bg-color);\n",
              "    border: none;\n",
              "    border-radius: 50%;\n",
              "    cursor: pointer;\n",
              "    display: none;\n",
              "    fill: var(--fill-color);\n",
              "    height: 32px;\n",
              "    padding: 0;\n",
              "    width: 32px;\n",
              "  }\n",
              "\n",
              "  .colab-df-quickchart:hover {\n",
              "    background-color: var(--hover-bg-color);\n",
              "    box-shadow: 0 1px 2px rgba(60, 64, 67, 0.3), 0 1px 3px 1px rgba(60, 64, 67, 0.15);\n",
              "    fill: var(--button-hover-fill-color);\n",
              "  }\n",
              "\n",
              "  .colab-df-quickchart-complete:disabled,\n",
              "  .colab-df-quickchart-complete:disabled:hover {\n",
              "    background-color: var(--disabled-bg-color);\n",
              "    fill: var(--disabled-fill-color);\n",
              "    box-shadow: none;\n",
              "  }\n",
              "\n",
              "  .colab-df-spinner {\n",
              "    border: 2px solid var(--fill-color);\n",
              "    border-color: transparent;\n",
              "    border-bottom-color: var(--fill-color);\n",
              "    animation:\n",
              "      spin 1s steps(1) infinite;\n",
              "  }\n",
              "\n",
              "  @keyframes spin {\n",
              "    0% {\n",
              "      border-color: transparent;\n",
              "      border-bottom-color: var(--fill-color);\n",
              "      border-left-color: var(--fill-color);\n",
              "    }\n",
              "    20% {\n",
              "      border-color: transparent;\n",
              "      border-left-color: var(--fill-color);\n",
              "      border-top-color: var(--fill-color);\n",
              "    }\n",
              "    30% {\n",
              "      border-color: transparent;\n",
              "      border-left-color: var(--fill-color);\n",
              "      border-top-color: var(--fill-color);\n",
              "      border-right-color: var(--fill-color);\n",
              "    }\n",
              "    40% {\n",
              "      border-color: transparent;\n",
              "      border-right-color: var(--fill-color);\n",
              "      border-top-color: var(--fill-color);\n",
              "    }\n",
              "    60% {\n",
              "      border-color: transparent;\n",
              "      border-right-color: var(--fill-color);\n",
              "    }\n",
              "    80% {\n",
              "      border-color: transparent;\n",
              "      border-right-color: var(--fill-color);\n",
              "      border-bottom-color: var(--fill-color);\n",
              "    }\n",
              "    90% {\n",
              "      border-color: transparent;\n",
              "      border-bottom-color: var(--fill-color);\n",
              "    }\n",
              "  }\n",
              "</style>\n",
              "\n",
              "  <script>\n",
              "    async function quickchart(key) {\n",
              "      const quickchartButtonEl =\n",
              "        document.querySelector('#' + key + ' button');\n",
              "      quickchartButtonEl.disabled = true;  // To prevent multiple clicks.\n",
              "      quickchartButtonEl.classList.add('colab-df-spinner');\n",
              "      try {\n",
              "        const charts = await google.colab.kernel.invokeFunction(\n",
              "            'suggestCharts', [key], {});\n",
              "      } catch (error) {\n",
              "        console.error('Error during call to suggestCharts:', error);\n",
              "      }\n",
              "      quickchartButtonEl.classList.remove('colab-df-spinner');\n",
              "      quickchartButtonEl.classList.add('colab-df-quickchart-complete');\n",
              "    }\n",
              "    (() => {\n",
              "      let quickchartButtonEl =\n",
              "        document.querySelector('#df-a86b3311-572c-4edd-bafa-cdb71dd8312b button');\n",
              "      quickchartButtonEl.style.display =\n",
              "        google.colab.kernel.accessAllowed ? 'block' : 'none';\n",
              "    })();\n",
              "  </script>\n",
              "</div>\n",
              "    </div>\n",
              "  </div>\n"
            ]
          },
          "metadata": {},
          "execution_count": 4
        }
      ]
    },
    {
      "cell_type": "code",
      "source": [
        "#df_september['Month'] = 0\n",
        "df_october['Month'] = 1"
      ],
      "metadata": {
        "id": "UDjOsywpZno8"
      },
      "execution_count": null,
      "outputs": []
    },
    {
      "cell_type": "code",
      "source": [
        "frames = [df_october]\n",
        "data = pd.concat(frames)\n",
        "data.isnull().sum()"
      ],
      "metadata": {
        "id": "vYyn-YEBaHdD",
        "colab": {
          "base_uri": "https://localhost:8080/"
        },
        "outputId": "894a2d2d-230e-4709-d598-cfd537f46ab5"
      },
      "execution_count": null,
      "outputs": [
        {
          "output_type": "execute_result",
          "data": {
            "text/plain": [
              "id                          0\n",
              "city                        0\n",
              "type                     3785\n",
              "squareMeters                0\n",
              "rooms                       0\n",
              "floor                    3046\n",
              "floorCount                242\n",
              "buildYear                2905\n",
              "latitude                    0\n",
              "longitude                   0\n",
              "centreDistance              0\n",
              "poiCount                    0\n",
              "schoolDistance             21\n",
              "clinicDistance             85\n",
              "postOfficeDistance         25\n",
              "kindergartenDistance       22\n",
              "restaurantDistance         53\n",
              "collegeDistance           505\n",
              "pharmacyDistance           29\n",
              "ownership                   0\n",
              "buildingMaterial         6483\n",
              "condition               12517\n",
              "hasParkingSpace             0\n",
              "hasBalcony                  0\n",
              "hasElevator               894\n",
              "hasSecurity                 0\n",
              "hasStorageRoom              0\n",
              "price                       0\n",
              "Month                       0\n",
              "dtype: int64"
            ]
          },
          "metadata": {},
          "execution_count": 6
        }
      ]
    },
    {
      "cell_type": "code",
      "source": [
        "data.describe()"
      ],
      "metadata": {
        "id": "DMKk-YYs2Hb3"
      },
      "execution_count": null,
      "outputs": []
    },
    {
      "cell_type": "markdown",
      "source": [
        "Adat tisztítás"
      ],
      "metadata": {
        "id": "_UJcf2uN2VT3"
      }
    },
    {
      "cell_type": "code",
      "source": [
        "data.drop(['buildingMaterial','condition','Month','latitude','longitude','id','poiCount'], axis=1, inplace=True)"
      ],
      "metadata": {
        "id": "iA2TMH_Bq_59"
      },
      "execution_count": null,
      "outputs": []
    },
    {
      "cell_type": "code",
      "source": [
        "data['type']=data['type'].fillna('unknown')\n",
        "data['floor']=data['floor'].fillna(data['floor'].mean())\n",
        "data['buildYear']=data['buildYear'].fillna(data['buildYear'].mean())\n",
        "#data['condition']=data['condition'].fillna('unknown')"
      ],
      "metadata": {
        "id": "bV4nUckmaaXi"
      },
      "execution_count": null,
      "outputs": []
    },
    {
      "cell_type": "code",
      "source": [
        "data = data.dropna()\n",
        "data.shape"
      ],
      "metadata": {
        "colab": {
          "base_uri": "https://localhost:8080/"
        },
        "id": "rGJ4YESwuWxd",
        "outputId": "452b1460-0645-4063-b761-7adcae6fef69"
      },
      "execution_count": null,
      "outputs": [
        {
          "output_type": "execute_result",
          "data": {
            "text/plain": [
              "(15135, 22)"
            ]
          },
          "metadata": {},
          "execution_count": 9
        }
      ]
    },
    {
      "cell_type": "code",
      "source": [
        "def remplace(x):\n",
        "    lista = ['yes','no']\n",
        "    return np.random.choice(lista) if pd.isna(x) else x\n",
        "data['hasElevator']=data['hasElevator'].map(remplace)"
      ],
      "metadata": {
        "id": "LUOElwcBZdMO",
        "colab": {
          "base_uri": "https://localhost:8080/"
        },
        "outputId": "378d989b-8e70-4092-916d-38a29be2f46d"
      },
      "execution_count": null,
      "outputs": [
        {
          "output_type": "stream",
          "name": "stderr",
          "text": [
            "<ipython-input-10-d84f2b79aa2e>:4: SettingWithCopyWarning: \n",
            "A value is trying to be set on a copy of a slice from a DataFrame.\n",
            "Try using .loc[row_indexer,col_indexer] = value instead\n",
            "\n",
            "See the caveats in the documentation: https://pandas.pydata.org/pandas-docs/stable/user_guide/indexing.html#returning-a-view-versus-a-copy\n",
            "  data['hasElevator']=data['hasElevator'].map(remplace)\n"
          ]
        }
      ]
    },
    {
      "cell_type": "code",
      "source": [
        "data.isnull().sum()"
      ],
      "metadata": {
        "colab": {
          "base_uri": "https://localhost:8080/"
        },
        "id": "otO63nLSWKE3",
        "outputId": "a184ee5e-3c53-415e-d5b2-34efa70c9a33"
      },
      "execution_count": null,
      "outputs": [
        {
          "output_type": "execute_result",
          "data": {
            "text/plain": [
              "city                    0\n",
              "type                    0\n",
              "squareMeters            0\n",
              "rooms                   0\n",
              "floor                   0\n",
              "floorCount              0\n",
              "buildYear               0\n",
              "centreDistance          0\n",
              "schoolDistance          0\n",
              "clinicDistance          0\n",
              "postOfficeDistance      0\n",
              "kindergartenDistance    0\n",
              "restaurantDistance      0\n",
              "collegeDistance         0\n",
              "pharmacyDistance        0\n",
              "ownership               0\n",
              "hasParkingSpace         0\n",
              "hasBalcony              0\n",
              "hasElevator             0\n",
              "hasSecurity             0\n",
              "hasStorageRoom          0\n",
              "price                   0\n",
              "dtype: int64"
            ]
          },
          "metadata": {},
          "execution_count": 11
        }
      ]
    },
    {
      "cell_type": "markdown",
      "source": [
        "Adat analízis"
      ],
      "metadata": {
        "id": "tMjkdpzc3MBG"
      }
    },
    {
      "cell_type": "code",
      "source": [
        "type =  data[\"type\"].value_counts()\n",
        "print(type)"
      ],
      "metadata": {
        "id": "BTJd6dGT3PEb"
      },
      "execution_count": null,
      "outputs": []
    },
    {
      "cell_type": "code",
      "source": [
        "figure, axe = plt.subplots()\n",
        "axe.set_title('type')\n",
        "axe.pie(type,labels=['blockOfFlats','unknown','tenement','apartmentBuilding'],colors=['#FFFF00',\"#808080\",'#FFA07A','#008000'],autopct='%1.1f%%',\n",
        "        explode=(0,0.1,0,0))\n",
        "plt.show()"
      ],
      "metadata": {
        "id": "LrxMSo6p3Sr-"
      },
      "execution_count": null,
      "outputs": []
    },
    {
      "cell_type": "code",
      "source": [
        "city=data.value_counts('city')\n",
        "print(city)"
      ],
      "metadata": {
        "id": "6zrHelwF3Ux-"
      },
      "execution_count": null,
      "outputs": []
    },
    {
      "cell_type": "code",
      "source": [
        "figure, axe = plt.subplots()\n",
        "axe.set_title('type')\n",
        "axe.pie(city,autopct='%1.1f%%',labels=['warszawa','krakow', 'wroclaw','gdansk','lodz','bydgoszcz','gdynia','poznan','lublin','katowice','szczecin','radom','bialystok','czestochowa','rzeszow']\n",
        "        ,explode=(0,0.1,0,0,0,0,0,0,0,0,0,0,0,0,0))\n",
        "plt.show()"
      ],
      "metadata": {
        "id": "WWOrVlaV3WvO"
      },
      "execution_count": null,
      "outputs": []
    },
    {
      "cell_type": "code",
      "source": [
        "room=data.value_counts('rooms')\n",
        "print(room)"
      ],
      "metadata": {
        "id": "DR1CJioU3Yti"
      },
      "execution_count": null,
      "outputs": []
    },
    {
      "cell_type": "code",
      "source": [
        "sns.countplot(data=data,x=\"rooms\")"
      ],
      "metadata": {
        "id": "lCh3vEsw3bDM"
      },
      "execution_count": null,
      "outputs": []
    },
    {
      "cell_type": "code",
      "source": [
        "floor=data.value_counts('floor')\n",
        "print(floor)"
      ],
      "metadata": {
        "id": "6kxIoHUD3dIW"
      },
      "execution_count": null,
      "outputs": []
    },
    {
      "cell_type": "code",
      "source": [
        "sns.histplot(data=data,x='floor')"
      ],
      "metadata": {
        "id": "DrYc4nxT3jII"
      },
      "execution_count": null,
      "outputs": []
    },
    {
      "cell_type": "code",
      "source": [
        "sns.histplot(data=data,x='squareMeters')"
      ],
      "metadata": {
        "id": "eCdC6q5J3lL3"
      },
      "execution_count": null,
      "outputs": []
    },
    {
      "cell_type": "code",
      "source": [
        "sns.histplot(data=data,x='price')"
      ],
      "metadata": {
        "id": "P0ffn8vG3oLf"
      },
      "execution_count": null,
      "outputs": []
    },
    {
      "cell_type": "code",
      "source": [
        "sns.countplot(data=data,x=\"ownership\")"
      ],
      "metadata": {
        "id": "LMfy85oH3pun"
      },
      "execution_count": null,
      "outputs": []
    },
    {
      "cell_type": "code",
      "source": [
        "sns.scatterplot(data=data,x='floor',y=\"price\")"
      ],
      "metadata": {
        "id": "1hNFJzeO3tQv"
      },
      "execution_count": null,
      "outputs": []
    },
    {
      "cell_type": "code",
      "source": [
        "sns.scatterplot(data=data,x='squareMeters',y='price')"
      ],
      "metadata": {
        "id": "UnQrG0Bh3vMP"
      },
      "execution_count": null,
      "outputs": []
    },
    {
      "cell_type": "markdown",
      "source": [
        "Szöveges cellák Encódolása számmá(nem használtam mert nem tudtam hogy melyik szöveg melyik számmá vált)\n"
      ],
      "metadata": {
        "id": "6yTcYjC82h2g"
      }
    },
    {
      "cell_type": "code",
      "source": [
        "#def hotencode(dataframe,colonne):\n",
        " # ohe = pd.get_dummies(dataframe[colonne],prefix=colonne)\n",
        "  #ohe.head()\n",
        " # dataframe = dataframe.join(ohe)\n",
        " # return dataframe"
      ],
      "metadata": {
        "id": "phZ6fC7No-hl"
      },
      "execution_count": null,
      "outputs": []
    },
    {
      "cell_type": "code",
      "source": [
        "#data = hotencode(data,\"type\")\n",
        "#data = hotencode(data,\"city\")\n",
        "#data = hotencode(data,\"ownership\")\n",
        "#data = hotencode(data,\"condition\")\n",
        "data.head()"
      ],
      "metadata": {
        "colab": {
          "base_uri": "https://localhost:8080/",
          "height": 255
        },
        "id": "gsXl9kDrpAzj",
        "outputId": "659376e3-96e0-423e-decf-3d930f69ff51"
      },
      "execution_count": null,
      "outputs": [
        {
          "output_type": "execute_result",
          "data": {
            "text/plain": [
              "       city               type  squareMeters  rooms  floor  floorCount  \\\n",
              "0  szczecin            unknown         53.80    2.0    5.0         5.0   \n",
              "1  szczecin           tenement         73.02    3.0    2.0         3.0   \n",
              "2  szczecin       blockOfFlats         37.00    2.0    8.0        10.0   \n",
              "3  szczecin  apartmentBuilding         48.00    2.0    4.0         6.0   \n",
              "4  szczecin  apartmentBuilding         55.19    2.0    1.0         2.0   \n",
              "\n",
              "     buildYear  centreDistance  schoolDistance  clinicDistance  ...  \\\n",
              "0  1984.573957            0.79           0.147           0.437  ...   \n",
              "1  1984.573957            3.24           0.275           0.672  ...   \n",
              "2  1970.000000            2.15           0.273           0.492  ...   \n",
              "3  1984.573957            1.48           0.293           1.009  ...   \n",
              "4  2013.000000            6.64           1.769           2.783  ...   \n",
              "\n",
              "   restaurantDistance  collegeDistance  pharmacyDistance    ownership  \\\n",
              "0               0.009            0.465             0.073  cooperative   \n",
              "1               0.300            1.857             0.280  condominium   \n",
              "2               0.348            1.404             0.205  cooperative   \n",
              "3               0.176            0.895             0.177  condominium   \n",
              "4               0.172            3.209             0.043  condominium   \n",
              "\n",
              "   hasParkingSpace hasBalcony hasElevator hasSecurity hasStorageRoom   price  \n",
              "0               no         no         yes          no             no  420000  \n",
              "1               no         no          no          no             no  565000  \n",
              "2               no        yes         yes         yes            yes  429995  \n",
              "3               no        yes          no          no             no  550000  \n",
              "4              yes        yes          no         yes            yes  607000  \n",
              "\n",
              "[5 rows x 22 columns]"
            ],
            "text/html": [
              "\n",
              "  <div id=\"df-42fe7520-7c6a-4a07-ba2b-96f01306568e\" class=\"colab-df-container\">\n",
              "    <div>\n",
              "<style scoped>\n",
              "    .dataframe tbody tr th:only-of-type {\n",
              "        vertical-align: middle;\n",
              "    }\n",
              "\n",
              "    .dataframe tbody tr th {\n",
              "        vertical-align: top;\n",
              "    }\n",
              "\n",
              "    .dataframe thead th {\n",
              "        text-align: right;\n",
              "    }\n",
              "</style>\n",
              "<table border=\"1\" class=\"dataframe\">\n",
              "  <thead>\n",
              "    <tr style=\"text-align: right;\">\n",
              "      <th></th>\n",
              "      <th>city</th>\n",
              "      <th>type</th>\n",
              "      <th>squareMeters</th>\n",
              "      <th>rooms</th>\n",
              "      <th>floor</th>\n",
              "      <th>floorCount</th>\n",
              "      <th>buildYear</th>\n",
              "      <th>centreDistance</th>\n",
              "      <th>schoolDistance</th>\n",
              "      <th>clinicDistance</th>\n",
              "      <th>...</th>\n",
              "      <th>restaurantDistance</th>\n",
              "      <th>collegeDistance</th>\n",
              "      <th>pharmacyDistance</th>\n",
              "      <th>ownership</th>\n",
              "      <th>hasParkingSpace</th>\n",
              "      <th>hasBalcony</th>\n",
              "      <th>hasElevator</th>\n",
              "      <th>hasSecurity</th>\n",
              "      <th>hasStorageRoom</th>\n",
              "      <th>price</th>\n",
              "    </tr>\n",
              "  </thead>\n",
              "  <tbody>\n",
              "    <tr>\n",
              "      <th>0</th>\n",
              "      <td>szczecin</td>\n",
              "      <td>unknown</td>\n",
              "      <td>53.80</td>\n",
              "      <td>2.0</td>\n",
              "      <td>5.0</td>\n",
              "      <td>5.0</td>\n",
              "      <td>1984.573957</td>\n",
              "      <td>0.79</td>\n",
              "      <td>0.147</td>\n",
              "      <td>0.437</td>\n",
              "      <td>...</td>\n",
              "      <td>0.009</td>\n",
              "      <td>0.465</td>\n",
              "      <td>0.073</td>\n",
              "      <td>cooperative</td>\n",
              "      <td>no</td>\n",
              "      <td>no</td>\n",
              "      <td>yes</td>\n",
              "      <td>no</td>\n",
              "      <td>no</td>\n",
              "      <td>420000</td>\n",
              "    </tr>\n",
              "    <tr>\n",
              "      <th>1</th>\n",
              "      <td>szczecin</td>\n",
              "      <td>tenement</td>\n",
              "      <td>73.02</td>\n",
              "      <td>3.0</td>\n",
              "      <td>2.0</td>\n",
              "      <td>3.0</td>\n",
              "      <td>1984.573957</td>\n",
              "      <td>3.24</td>\n",
              "      <td>0.275</td>\n",
              "      <td>0.672</td>\n",
              "      <td>...</td>\n",
              "      <td>0.300</td>\n",
              "      <td>1.857</td>\n",
              "      <td>0.280</td>\n",
              "      <td>condominium</td>\n",
              "      <td>no</td>\n",
              "      <td>no</td>\n",
              "      <td>no</td>\n",
              "      <td>no</td>\n",
              "      <td>no</td>\n",
              "      <td>565000</td>\n",
              "    </tr>\n",
              "    <tr>\n",
              "      <th>2</th>\n",
              "      <td>szczecin</td>\n",
              "      <td>blockOfFlats</td>\n",
              "      <td>37.00</td>\n",
              "      <td>2.0</td>\n",
              "      <td>8.0</td>\n",
              "      <td>10.0</td>\n",
              "      <td>1970.000000</td>\n",
              "      <td>2.15</td>\n",
              "      <td>0.273</td>\n",
              "      <td>0.492</td>\n",
              "      <td>...</td>\n",
              "      <td>0.348</td>\n",
              "      <td>1.404</td>\n",
              "      <td>0.205</td>\n",
              "      <td>cooperative</td>\n",
              "      <td>no</td>\n",
              "      <td>yes</td>\n",
              "      <td>yes</td>\n",
              "      <td>yes</td>\n",
              "      <td>yes</td>\n",
              "      <td>429995</td>\n",
              "    </tr>\n",
              "    <tr>\n",
              "      <th>3</th>\n",
              "      <td>szczecin</td>\n",
              "      <td>apartmentBuilding</td>\n",
              "      <td>48.00</td>\n",
              "      <td>2.0</td>\n",
              "      <td>4.0</td>\n",
              "      <td>6.0</td>\n",
              "      <td>1984.573957</td>\n",
              "      <td>1.48</td>\n",
              "      <td>0.293</td>\n",
              "      <td>1.009</td>\n",
              "      <td>...</td>\n",
              "      <td>0.176</td>\n",
              "      <td>0.895</td>\n",
              "      <td>0.177</td>\n",
              "      <td>condominium</td>\n",
              "      <td>no</td>\n",
              "      <td>yes</td>\n",
              "      <td>no</td>\n",
              "      <td>no</td>\n",
              "      <td>no</td>\n",
              "      <td>550000</td>\n",
              "    </tr>\n",
              "    <tr>\n",
              "      <th>4</th>\n",
              "      <td>szczecin</td>\n",
              "      <td>apartmentBuilding</td>\n",
              "      <td>55.19</td>\n",
              "      <td>2.0</td>\n",
              "      <td>1.0</td>\n",
              "      <td>2.0</td>\n",
              "      <td>2013.000000</td>\n",
              "      <td>6.64</td>\n",
              "      <td>1.769</td>\n",
              "      <td>2.783</td>\n",
              "      <td>...</td>\n",
              "      <td>0.172</td>\n",
              "      <td>3.209</td>\n",
              "      <td>0.043</td>\n",
              "      <td>condominium</td>\n",
              "      <td>yes</td>\n",
              "      <td>yes</td>\n",
              "      <td>no</td>\n",
              "      <td>yes</td>\n",
              "      <td>yes</td>\n",
              "      <td>607000</td>\n",
              "    </tr>\n",
              "  </tbody>\n",
              "</table>\n",
              "<p>5 rows × 22 columns</p>\n",
              "</div>\n",
              "    <div class=\"colab-df-buttons\">\n",
              "\n",
              "  <div class=\"colab-df-container\">\n",
              "    <button class=\"colab-df-convert\" onclick=\"convertToInteractive('df-42fe7520-7c6a-4a07-ba2b-96f01306568e')\"\n",
              "            title=\"Convert this dataframe to an interactive table.\"\n",
              "            style=\"display:none;\">\n",
              "\n",
              "  <svg xmlns=\"http://www.w3.org/2000/svg\" height=\"24px\" viewBox=\"0 -960 960 960\">\n",
              "    <path d=\"M120-120v-720h720v720H120Zm60-500h600v-160H180v160Zm220 220h160v-160H400v160Zm0 220h160v-160H400v160ZM180-400h160v-160H180v160Zm440 0h160v-160H620v160ZM180-180h160v-160H180v160Zm440 0h160v-160H620v160Z\"/>\n",
              "  </svg>\n",
              "    </button>\n",
              "\n",
              "  <style>\n",
              "    .colab-df-container {\n",
              "      display:flex;\n",
              "      gap: 12px;\n",
              "    }\n",
              "\n",
              "    .colab-df-convert {\n",
              "      background-color: #E8F0FE;\n",
              "      border: none;\n",
              "      border-radius: 50%;\n",
              "      cursor: pointer;\n",
              "      display: none;\n",
              "      fill: #1967D2;\n",
              "      height: 32px;\n",
              "      padding: 0 0 0 0;\n",
              "      width: 32px;\n",
              "    }\n",
              "\n",
              "    .colab-df-convert:hover {\n",
              "      background-color: #E2EBFA;\n",
              "      box-shadow: 0px 1px 2px rgba(60, 64, 67, 0.3), 0px 1px 3px 1px rgba(60, 64, 67, 0.15);\n",
              "      fill: #174EA6;\n",
              "    }\n",
              "\n",
              "    .colab-df-buttons div {\n",
              "      margin-bottom: 4px;\n",
              "    }\n",
              "\n",
              "    [theme=dark] .colab-df-convert {\n",
              "      background-color: #3B4455;\n",
              "      fill: #D2E3FC;\n",
              "    }\n",
              "\n",
              "    [theme=dark] .colab-df-convert:hover {\n",
              "      background-color: #434B5C;\n",
              "      box-shadow: 0px 1px 3px 1px rgba(0, 0, 0, 0.15);\n",
              "      filter: drop-shadow(0px 1px 2px rgba(0, 0, 0, 0.3));\n",
              "      fill: #FFFFFF;\n",
              "    }\n",
              "  </style>\n",
              "\n",
              "    <script>\n",
              "      const buttonEl =\n",
              "        document.querySelector('#df-42fe7520-7c6a-4a07-ba2b-96f01306568e button.colab-df-convert');\n",
              "      buttonEl.style.display =\n",
              "        google.colab.kernel.accessAllowed ? 'block' : 'none';\n",
              "\n",
              "      async function convertToInteractive(key) {\n",
              "        const element = document.querySelector('#df-42fe7520-7c6a-4a07-ba2b-96f01306568e');\n",
              "        const dataTable =\n",
              "          await google.colab.kernel.invokeFunction('convertToInteractive',\n",
              "                                                    [key], {});\n",
              "        if (!dataTable) return;\n",
              "\n",
              "        const docLinkHtml = 'Like what you see? Visit the ' +\n",
              "          '<a target=\"_blank\" href=https://colab.research.google.com/notebooks/data_table.ipynb>data table notebook</a>'\n",
              "          + ' to learn more about interactive tables.';\n",
              "        element.innerHTML = '';\n",
              "        dataTable['output_type'] = 'display_data';\n",
              "        await google.colab.output.renderOutput(dataTable, element);\n",
              "        const docLink = document.createElement('div');\n",
              "        docLink.innerHTML = docLinkHtml;\n",
              "        element.appendChild(docLink);\n",
              "      }\n",
              "    </script>\n",
              "  </div>\n",
              "\n",
              "\n",
              "<div id=\"df-7625188c-73b9-4311-953e-55b948e63d11\">\n",
              "  <button class=\"colab-df-quickchart\" onclick=\"quickchart('df-7625188c-73b9-4311-953e-55b948e63d11')\"\n",
              "            title=\"Suggest charts\"\n",
              "            style=\"display:none;\">\n",
              "\n",
              "<svg xmlns=\"http://www.w3.org/2000/svg\" height=\"24px\"viewBox=\"0 0 24 24\"\n",
              "     width=\"24px\">\n",
              "    <g>\n",
              "        <path d=\"M19 3H5c-1.1 0-2 .9-2 2v14c0 1.1.9 2 2 2h14c1.1 0 2-.9 2-2V5c0-1.1-.9-2-2-2zM9 17H7v-7h2v7zm4 0h-2V7h2v10zm4 0h-2v-4h2v4z\"/>\n",
              "    </g>\n",
              "</svg>\n",
              "  </button>\n",
              "\n",
              "<style>\n",
              "  .colab-df-quickchart {\n",
              "      --bg-color: #E8F0FE;\n",
              "      --fill-color: #1967D2;\n",
              "      --hover-bg-color: #E2EBFA;\n",
              "      --hover-fill-color: #174EA6;\n",
              "      --disabled-fill-color: #AAA;\n",
              "      --disabled-bg-color: #DDD;\n",
              "  }\n",
              "\n",
              "  [theme=dark] .colab-df-quickchart {\n",
              "      --bg-color: #3B4455;\n",
              "      --fill-color: #D2E3FC;\n",
              "      --hover-bg-color: #434B5C;\n",
              "      --hover-fill-color: #FFFFFF;\n",
              "      --disabled-bg-color: #3B4455;\n",
              "      --disabled-fill-color: #666;\n",
              "  }\n",
              "\n",
              "  .colab-df-quickchart {\n",
              "    background-color: var(--bg-color);\n",
              "    border: none;\n",
              "    border-radius: 50%;\n",
              "    cursor: pointer;\n",
              "    display: none;\n",
              "    fill: var(--fill-color);\n",
              "    height: 32px;\n",
              "    padding: 0;\n",
              "    width: 32px;\n",
              "  }\n",
              "\n",
              "  .colab-df-quickchart:hover {\n",
              "    background-color: var(--hover-bg-color);\n",
              "    box-shadow: 0 1px 2px rgba(60, 64, 67, 0.3), 0 1px 3px 1px rgba(60, 64, 67, 0.15);\n",
              "    fill: var(--button-hover-fill-color);\n",
              "  }\n",
              "\n",
              "  .colab-df-quickchart-complete:disabled,\n",
              "  .colab-df-quickchart-complete:disabled:hover {\n",
              "    background-color: var(--disabled-bg-color);\n",
              "    fill: var(--disabled-fill-color);\n",
              "    box-shadow: none;\n",
              "  }\n",
              "\n",
              "  .colab-df-spinner {\n",
              "    border: 2px solid var(--fill-color);\n",
              "    border-color: transparent;\n",
              "    border-bottom-color: var(--fill-color);\n",
              "    animation:\n",
              "      spin 1s steps(1) infinite;\n",
              "  }\n",
              "\n",
              "  @keyframes spin {\n",
              "    0% {\n",
              "      border-color: transparent;\n",
              "      border-bottom-color: var(--fill-color);\n",
              "      border-left-color: var(--fill-color);\n",
              "    }\n",
              "    20% {\n",
              "      border-color: transparent;\n",
              "      border-left-color: var(--fill-color);\n",
              "      border-top-color: var(--fill-color);\n",
              "    }\n",
              "    30% {\n",
              "      border-color: transparent;\n",
              "      border-left-color: var(--fill-color);\n",
              "      border-top-color: var(--fill-color);\n",
              "      border-right-color: var(--fill-color);\n",
              "    }\n",
              "    40% {\n",
              "      border-color: transparent;\n",
              "      border-right-color: var(--fill-color);\n",
              "      border-top-color: var(--fill-color);\n",
              "    }\n",
              "    60% {\n",
              "      border-color: transparent;\n",
              "      border-right-color: var(--fill-color);\n",
              "    }\n",
              "    80% {\n",
              "      border-color: transparent;\n",
              "      border-right-color: var(--fill-color);\n",
              "      border-bottom-color: var(--fill-color);\n",
              "    }\n",
              "    90% {\n",
              "      border-color: transparent;\n",
              "      border-bottom-color: var(--fill-color);\n",
              "    }\n",
              "  }\n",
              "</style>\n",
              "\n",
              "  <script>\n",
              "    async function quickchart(key) {\n",
              "      const quickchartButtonEl =\n",
              "        document.querySelector('#' + key + ' button');\n",
              "      quickchartButtonEl.disabled = true;  // To prevent multiple clicks.\n",
              "      quickchartButtonEl.classList.add('colab-df-spinner');\n",
              "      try {\n",
              "        const charts = await google.colab.kernel.invokeFunction(\n",
              "            'suggestCharts', [key], {});\n",
              "      } catch (error) {\n",
              "        console.error('Error during call to suggestCharts:', error);\n",
              "      }\n",
              "      quickchartButtonEl.classList.remove('colab-df-spinner');\n",
              "      quickchartButtonEl.classList.add('colab-df-quickchart-complete');\n",
              "    }\n",
              "    (() => {\n",
              "      let quickchartButtonEl =\n",
              "        document.querySelector('#df-7625188c-73b9-4311-953e-55b948e63d11 button');\n",
              "      quickchartButtonEl.style.display =\n",
              "        google.colab.kernel.accessAllowed ? 'block' : 'none';\n",
              "    })();\n",
              "  </script>\n",
              "</div>\n",
              "    </div>\n",
              "  </div>\n"
            ]
          },
          "metadata": {},
          "execution_count": 13
        }
      ]
    },
    {
      "cell_type": "markdown",
      "source": [
        "Szöveg kódolása számmá Szótár segítségével"
      ],
      "metadata": {
        "id": "4KEBByKH29yg"
      }
    },
    {
      "cell_type": "code",
      "source": [
        "Type={\n",
        "    'unknown':0,\n",
        "    'tenement':1,\n",
        "    'apartmentBuilding':2,\n",
        "    'blockOfFlats':3,\n",
        "}\n",
        "data['type']=data['type'].map(Type)\n",
        "city={\n",
        "    'warszawa':0,\n",
        "    'krakow':1,\n",
        "    'gdansk':2,\n",
        "    'szczecin':3,\n",
        "    'gdynia':4,\n",
        "    'poznan':5,\n",
        "    'bialystok':6,\n",
        "    'wroclaw':7,\n",
        "    'radom':8,\n",
        "    'rzeszow':9,\n",
        "    'lodz':10,\n",
        "    'katowice':11,\n",
        "    'lublin':12,\n",
        "    'czestochowa':13,\n",
        "    'bydgoszcz':14,\n",
        "}\n",
        "data['city']=data['city'].map(city)\n",
        "ownership={\n",
        "    'condominium':0,\n",
        "    'cooperative':1,\n",
        "}\n",
        "data['ownership']=data['ownership'].map(ownership)\n",
        "hasParkingSpace={\n",
        "    'no':0,\n",
        "    'yes':1\n",
        "}\n",
        "data['hasParkingSpace']=data['hasParkingSpace'].map(hasParkingSpace)\n",
        "\n",
        "hasBalcony={\n",
        "    'no':0,\n",
        "    'yes':1\n",
        "}\n",
        "hasElevator={\n",
        "    'no':0,\n",
        "    'yes':1\n",
        "}\n",
        "hasSecurity={\n",
        "    'no':0,\n",
        "    'yes':1\n",
        "}\n",
        "hasStorageRoom={\n",
        "    'no':0,\n",
        "    'yes':1\n",
        "}\n",
        "\n",
        "data['hasBalcony']=data['hasBalcony'].map(hasParkingSpace)\n",
        "data['hasElevator']=data['hasElevator'].map(hasParkingSpace)\n",
        "data['hasSecurity']=data['hasSecurity'].map(hasSecurity)\n",
        "data['hasStorageRoom']=data['hasStorageRoom'].map(hasStorageRoom)\n"
      ],
      "metadata": {
        "id": "w2KJPekTWg6m",
        "colab": {
          "base_uri": "https://localhost:8080/"
        },
        "outputId": "ae374f1f-a85a-4bd3-f6dc-377f368aeeab"
      },
      "execution_count": null,
      "outputs": [
        {
          "output_type": "stream",
          "name": "stderr",
          "text": [
            "<ipython-input-14-cefafc8f366a>:7: SettingWithCopyWarning: \n",
            "A value is trying to be set on a copy of a slice from a DataFrame.\n",
            "Try using .loc[row_indexer,col_indexer] = value instead\n",
            "\n",
            "See the caveats in the documentation: https://pandas.pydata.org/pandas-docs/stable/user_guide/indexing.html#returning-a-view-versus-a-copy\n",
            "  data['type']=data['type'].map(Type)\n",
            "<ipython-input-14-cefafc8f366a>:25: SettingWithCopyWarning: \n",
            "A value is trying to be set on a copy of a slice from a DataFrame.\n",
            "Try using .loc[row_indexer,col_indexer] = value instead\n",
            "\n",
            "See the caveats in the documentation: https://pandas.pydata.org/pandas-docs/stable/user_guide/indexing.html#returning-a-view-versus-a-copy\n",
            "  data['city']=data['city'].map(city)\n"
          ]
        }
      ]
    },
    {
      "cell_type": "code",
      "source": [
        "#data['id'] = range(1, len(data) + 1)\n",
        "data.head()"
      ],
      "metadata": {
        "colab": {
          "base_uri": "https://localhost:8080/",
          "height": 255
        },
        "id": "y9AO3pnL9_QE",
        "outputId": "d2ce264d-923f-4c0b-9950-74ff75e7a9ec"
      },
      "execution_count": null,
      "outputs": [
        {
          "output_type": "execute_result",
          "data": {
            "text/plain": [
              "   city  type  squareMeters  rooms  floor  floorCount    buildYear  \\\n",
              "0     3     0         53.80    2.0    5.0         5.0  1984.573957   \n",
              "1     3     1         73.02    3.0    2.0         3.0  1984.573957   \n",
              "2     3     3         37.00    2.0    8.0        10.0  1970.000000   \n",
              "3     3     2         48.00    2.0    4.0         6.0  1984.573957   \n",
              "4     3     2         55.19    2.0    1.0         2.0  2013.000000   \n",
              "\n",
              "   centreDistance  schoolDistance  clinicDistance  ...  restaurantDistance  \\\n",
              "0            0.79           0.147           0.437  ...               0.009   \n",
              "1            3.24           0.275           0.672  ...               0.300   \n",
              "2            2.15           0.273           0.492  ...               0.348   \n",
              "3            1.48           0.293           1.009  ...               0.176   \n",
              "4            6.64           1.769           2.783  ...               0.172   \n",
              "\n",
              "   collegeDistance  pharmacyDistance  ownership  hasParkingSpace  hasBalcony  \\\n",
              "0            0.465             0.073        1.0                0           0   \n",
              "1            1.857             0.280        0.0                0           0   \n",
              "2            1.404             0.205        1.0                0           1   \n",
              "3            0.895             0.177        0.0                0           1   \n",
              "4            3.209             0.043        0.0                1           1   \n",
              "\n",
              "   hasElevator  hasSecurity  hasStorageRoom   price  \n",
              "0            1            0               0  420000  \n",
              "1            0            0               0  565000  \n",
              "2            1            1               1  429995  \n",
              "3            0            0               0  550000  \n",
              "4            0            1               1  607000  \n",
              "\n",
              "[5 rows x 22 columns]"
            ],
            "text/html": [
              "\n",
              "  <div id=\"df-b866adcb-cb03-41a0-b27c-544255cf04f6\" class=\"colab-df-container\">\n",
              "    <div>\n",
              "<style scoped>\n",
              "    .dataframe tbody tr th:only-of-type {\n",
              "        vertical-align: middle;\n",
              "    }\n",
              "\n",
              "    .dataframe tbody tr th {\n",
              "        vertical-align: top;\n",
              "    }\n",
              "\n",
              "    .dataframe thead th {\n",
              "        text-align: right;\n",
              "    }\n",
              "</style>\n",
              "<table border=\"1\" class=\"dataframe\">\n",
              "  <thead>\n",
              "    <tr style=\"text-align: right;\">\n",
              "      <th></th>\n",
              "      <th>city</th>\n",
              "      <th>type</th>\n",
              "      <th>squareMeters</th>\n",
              "      <th>rooms</th>\n",
              "      <th>floor</th>\n",
              "      <th>floorCount</th>\n",
              "      <th>buildYear</th>\n",
              "      <th>centreDistance</th>\n",
              "      <th>schoolDistance</th>\n",
              "      <th>clinicDistance</th>\n",
              "      <th>...</th>\n",
              "      <th>restaurantDistance</th>\n",
              "      <th>collegeDistance</th>\n",
              "      <th>pharmacyDistance</th>\n",
              "      <th>ownership</th>\n",
              "      <th>hasParkingSpace</th>\n",
              "      <th>hasBalcony</th>\n",
              "      <th>hasElevator</th>\n",
              "      <th>hasSecurity</th>\n",
              "      <th>hasStorageRoom</th>\n",
              "      <th>price</th>\n",
              "    </tr>\n",
              "  </thead>\n",
              "  <tbody>\n",
              "    <tr>\n",
              "      <th>0</th>\n",
              "      <td>3</td>\n",
              "      <td>0</td>\n",
              "      <td>53.80</td>\n",
              "      <td>2.0</td>\n",
              "      <td>5.0</td>\n",
              "      <td>5.0</td>\n",
              "      <td>1984.573957</td>\n",
              "      <td>0.79</td>\n",
              "      <td>0.147</td>\n",
              "      <td>0.437</td>\n",
              "      <td>...</td>\n",
              "      <td>0.009</td>\n",
              "      <td>0.465</td>\n",
              "      <td>0.073</td>\n",
              "      <td>1.0</td>\n",
              "      <td>0</td>\n",
              "      <td>0</td>\n",
              "      <td>1</td>\n",
              "      <td>0</td>\n",
              "      <td>0</td>\n",
              "      <td>420000</td>\n",
              "    </tr>\n",
              "    <tr>\n",
              "      <th>1</th>\n",
              "      <td>3</td>\n",
              "      <td>1</td>\n",
              "      <td>73.02</td>\n",
              "      <td>3.0</td>\n",
              "      <td>2.0</td>\n",
              "      <td>3.0</td>\n",
              "      <td>1984.573957</td>\n",
              "      <td>3.24</td>\n",
              "      <td>0.275</td>\n",
              "      <td>0.672</td>\n",
              "      <td>...</td>\n",
              "      <td>0.300</td>\n",
              "      <td>1.857</td>\n",
              "      <td>0.280</td>\n",
              "      <td>0.0</td>\n",
              "      <td>0</td>\n",
              "      <td>0</td>\n",
              "      <td>0</td>\n",
              "      <td>0</td>\n",
              "      <td>0</td>\n",
              "      <td>565000</td>\n",
              "    </tr>\n",
              "    <tr>\n",
              "      <th>2</th>\n",
              "      <td>3</td>\n",
              "      <td>3</td>\n",
              "      <td>37.00</td>\n",
              "      <td>2.0</td>\n",
              "      <td>8.0</td>\n",
              "      <td>10.0</td>\n",
              "      <td>1970.000000</td>\n",
              "      <td>2.15</td>\n",
              "      <td>0.273</td>\n",
              "      <td>0.492</td>\n",
              "      <td>...</td>\n",
              "      <td>0.348</td>\n",
              "      <td>1.404</td>\n",
              "      <td>0.205</td>\n",
              "      <td>1.0</td>\n",
              "      <td>0</td>\n",
              "      <td>1</td>\n",
              "      <td>1</td>\n",
              "      <td>1</td>\n",
              "      <td>1</td>\n",
              "      <td>429995</td>\n",
              "    </tr>\n",
              "    <tr>\n",
              "      <th>3</th>\n",
              "      <td>3</td>\n",
              "      <td>2</td>\n",
              "      <td>48.00</td>\n",
              "      <td>2.0</td>\n",
              "      <td>4.0</td>\n",
              "      <td>6.0</td>\n",
              "      <td>1984.573957</td>\n",
              "      <td>1.48</td>\n",
              "      <td>0.293</td>\n",
              "      <td>1.009</td>\n",
              "      <td>...</td>\n",
              "      <td>0.176</td>\n",
              "      <td>0.895</td>\n",
              "      <td>0.177</td>\n",
              "      <td>0.0</td>\n",
              "      <td>0</td>\n",
              "      <td>1</td>\n",
              "      <td>0</td>\n",
              "      <td>0</td>\n",
              "      <td>0</td>\n",
              "      <td>550000</td>\n",
              "    </tr>\n",
              "    <tr>\n",
              "      <th>4</th>\n",
              "      <td>3</td>\n",
              "      <td>2</td>\n",
              "      <td>55.19</td>\n",
              "      <td>2.0</td>\n",
              "      <td>1.0</td>\n",
              "      <td>2.0</td>\n",
              "      <td>2013.000000</td>\n",
              "      <td>6.64</td>\n",
              "      <td>1.769</td>\n",
              "      <td>2.783</td>\n",
              "      <td>...</td>\n",
              "      <td>0.172</td>\n",
              "      <td>3.209</td>\n",
              "      <td>0.043</td>\n",
              "      <td>0.0</td>\n",
              "      <td>1</td>\n",
              "      <td>1</td>\n",
              "      <td>0</td>\n",
              "      <td>1</td>\n",
              "      <td>1</td>\n",
              "      <td>607000</td>\n",
              "    </tr>\n",
              "  </tbody>\n",
              "</table>\n",
              "<p>5 rows × 22 columns</p>\n",
              "</div>\n",
              "    <div class=\"colab-df-buttons\">\n",
              "\n",
              "  <div class=\"colab-df-container\">\n",
              "    <button class=\"colab-df-convert\" onclick=\"convertToInteractive('df-b866adcb-cb03-41a0-b27c-544255cf04f6')\"\n",
              "            title=\"Convert this dataframe to an interactive table.\"\n",
              "            style=\"display:none;\">\n",
              "\n",
              "  <svg xmlns=\"http://www.w3.org/2000/svg\" height=\"24px\" viewBox=\"0 -960 960 960\">\n",
              "    <path d=\"M120-120v-720h720v720H120Zm60-500h600v-160H180v160Zm220 220h160v-160H400v160Zm0 220h160v-160H400v160ZM180-400h160v-160H180v160Zm440 0h160v-160H620v160ZM180-180h160v-160H180v160Zm440 0h160v-160H620v160Z\"/>\n",
              "  </svg>\n",
              "    </button>\n",
              "\n",
              "  <style>\n",
              "    .colab-df-container {\n",
              "      display:flex;\n",
              "      gap: 12px;\n",
              "    }\n",
              "\n",
              "    .colab-df-convert {\n",
              "      background-color: #E8F0FE;\n",
              "      border: none;\n",
              "      border-radius: 50%;\n",
              "      cursor: pointer;\n",
              "      display: none;\n",
              "      fill: #1967D2;\n",
              "      height: 32px;\n",
              "      padding: 0 0 0 0;\n",
              "      width: 32px;\n",
              "    }\n",
              "\n",
              "    .colab-df-convert:hover {\n",
              "      background-color: #E2EBFA;\n",
              "      box-shadow: 0px 1px 2px rgba(60, 64, 67, 0.3), 0px 1px 3px 1px rgba(60, 64, 67, 0.15);\n",
              "      fill: #174EA6;\n",
              "    }\n",
              "\n",
              "    .colab-df-buttons div {\n",
              "      margin-bottom: 4px;\n",
              "    }\n",
              "\n",
              "    [theme=dark] .colab-df-convert {\n",
              "      background-color: #3B4455;\n",
              "      fill: #D2E3FC;\n",
              "    }\n",
              "\n",
              "    [theme=dark] .colab-df-convert:hover {\n",
              "      background-color: #434B5C;\n",
              "      box-shadow: 0px 1px 3px 1px rgba(0, 0, 0, 0.15);\n",
              "      filter: drop-shadow(0px 1px 2px rgba(0, 0, 0, 0.3));\n",
              "      fill: #FFFFFF;\n",
              "    }\n",
              "  </style>\n",
              "\n",
              "    <script>\n",
              "      const buttonEl =\n",
              "        document.querySelector('#df-b866adcb-cb03-41a0-b27c-544255cf04f6 button.colab-df-convert');\n",
              "      buttonEl.style.display =\n",
              "        google.colab.kernel.accessAllowed ? 'block' : 'none';\n",
              "\n",
              "      async function convertToInteractive(key) {\n",
              "        const element = document.querySelector('#df-b866adcb-cb03-41a0-b27c-544255cf04f6');\n",
              "        const dataTable =\n",
              "          await google.colab.kernel.invokeFunction('convertToInteractive',\n",
              "                                                    [key], {});\n",
              "        if (!dataTable) return;\n",
              "\n",
              "        const docLinkHtml = 'Like what you see? Visit the ' +\n",
              "          '<a target=\"_blank\" href=https://colab.research.google.com/notebooks/data_table.ipynb>data table notebook</a>'\n",
              "          + ' to learn more about interactive tables.';\n",
              "        element.innerHTML = '';\n",
              "        dataTable['output_type'] = 'display_data';\n",
              "        await google.colab.output.renderOutput(dataTable, element);\n",
              "        const docLink = document.createElement('div');\n",
              "        docLink.innerHTML = docLinkHtml;\n",
              "        element.appendChild(docLink);\n",
              "      }\n",
              "    </script>\n",
              "  </div>\n",
              "\n",
              "\n",
              "<div id=\"df-fa2b9458-6901-451b-bb7c-402b8a5f73a3\">\n",
              "  <button class=\"colab-df-quickchart\" onclick=\"quickchart('df-fa2b9458-6901-451b-bb7c-402b8a5f73a3')\"\n",
              "            title=\"Suggest charts\"\n",
              "            style=\"display:none;\">\n",
              "\n",
              "<svg xmlns=\"http://www.w3.org/2000/svg\" height=\"24px\"viewBox=\"0 0 24 24\"\n",
              "     width=\"24px\">\n",
              "    <g>\n",
              "        <path d=\"M19 3H5c-1.1 0-2 .9-2 2v14c0 1.1.9 2 2 2h14c1.1 0 2-.9 2-2V5c0-1.1-.9-2-2-2zM9 17H7v-7h2v7zm4 0h-2V7h2v10zm4 0h-2v-4h2v4z\"/>\n",
              "    </g>\n",
              "</svg>\n",
              "  </button>\n",
              "\n",
              "<style>\n",
              "  .colab-df-quickchart {\n",
              "      --bg-color: #E8F0FE;\n",
              "      --fill-color: #1967D2;\n",
              "      --hover-bg-color: #E2EBFA;\n",
              "      --hover-fill-color: #174EA6;\n",
              "      --disabled-fill-color: #AAA;\n",
              "      --disabled-bg-color: #DDD;\n",
              "  }\n",
              "\n",
              "  [theme=dark] .colab-df-quickchart {\n",
              "      --bg-color: #3B4455;\n",
              "      --fill-color: #D2E3FC;\n",
              "      --hover-bg-color: #434B5C;\n",
              "      --hover-fill-color: #FFFFFF;\n",
              "      --disabled-bg-color: #3B4455;\n",
              "      --disabled-fill-color: #666;\n",
              "  }\n",
              "\n",
              "  .colab-df-quickchart {\n",
              "    background-color: var(--bg-color);\n",
              "    border: none;\n",
              "    border-radius: 50%;\n",
              "    cursor: pointer;\n",
              "    display: none;\n",
              "    fill: var(--fill-color);\n",
              "    height: 32px;\n",
              "    padding: 0;\n",
              "    width: 32px;\n",
              "  }\n",
              "\n",
              "  .colab-df-quickchart:hover {\n",
              "    background-color: var(--hover-bg-color);\n",
              "    box-shadow: 0 1px 2px rgba(60, 64, 67, 0.3), 0 1px 3px 1px rgba(60, 64, 67, 0.15);\n",
              "    fill: var(--button-hover-fill-color);\n",
              "  }\n",
              "\n",
              "  .colab-df-quickchart-complete:disabled,\n",
              "  .colab-df-quickchart-complete:disabled:hover {\n",
              "    background-color: var(--disabled-bg-color);\n",
              "    fill: var(--disabled-fill-color);\n",
              "    box-shadow: none;\n",
              "  }\n",
              "\n",
              "  .colab-df-spinner {\n",
              "    border: 2px solid var(--fill-color);\n",
              "    border-color: transparent;\n",
              "    border-bottom-color: var(--fill-color);\n",
              "    animation:\n",
              "      spin 1s steps(1) infinite;\n",
              "  }\n",
              "\n",
              "  @keyframes spin {\n",
              "    0% {\n",
              "      border-color: transparent;\n",
              "      border-bottom-color: var(--fill-color);\n",
              "      border-left-color: var(--fill-color);\n",
              "    }\n",
              "    20% {\n",
              "      border-color: transparent;\n",
              "      border-left-color: var(--fill-color);\n",
              "      border-top-color: var(--fill-color);\n",
              "    }\n",
              "    30% {\n",
              "      border-color: transparent;\n",
              "      border-left-color: var(--fill-color);\n",
              "      border-top-color: var(--fill-color);\n",
              "      border-right-color: var(--fill-color);\n",
              "    }\n",
              "    40% {\n",
              "      border-color: transparent;\n",
              "      border-right-color: var(--fill-color);\n",
              "      border-top-color: var(--fill-color);\n",
              "    }\n",
              "    60% {\n",
              "      border-color: transparent;\n",
              "      border-right-color: var(--fill-color);\n",
              "    }\n",
              "    80% {\n",
              "      border-color: transparent;\n",
              "      border-right-color: var(--fill-color);\n",
              "      border-bottom-color: var(--fill-color);\n",
              "    }\n",
              "    90% {\n",
              "      border-color: transparent;\n",
              "      border-bottom-color: var(--fill-color);\n",
              "    }\n",
              "  }\n",
              "</style>\n",
              "\n",
              "  <script>\n",
              "    async function quickchart(key) {\n",
              "      const quickchartButtonEl =\n",
              "        document.querySelector('#' + key + ' button');\n",
              "      quickchartButtonEl.disabled = true;  // To prevent multiple clicks.\n",
              "      quickchartButtonEl.classList.add('colab-df-spinner');\n",
              "      try {\n",
              "        const charts = await google.colab.kernel.invokeFunction(\n",
              "            'suggestCharts', [key], {});\n",
              "      } catch (error) {\n",
              "        console.error('Error during call to suggestCharts:', error);\n",
              "      }\n",
              "      quickchartButtonEl.classList.remove('colab-df-spinner');\n",
              "      quickchartButtonEl.classList.add('colab-df-quickchart-complete');\n",
              "    }\n",
              "    (() => {\n",
              "      let quickchartButtonEl =\n",
              "        document.querySelector('#df-fa2b9458-6901-451b-bb7c-402b8a5f73a3 button');\n",
              "      quickchartButtonEl.style.display =\n",
              "        google.colab.kernel.accessAllowed ? 'block' : 'none';\n",
              "    })();\n",
              "  </script>\n",
              "</div>\n",
              "    </div>\n",
              "  </div>\n"
            ]
          },
          "metadata": {},
          "execution_count": 15
        }
      ]
    },
    {
      "cell_type": "code",
      "source": [
        "#data.drop(['hasParkingSpace',\"hasBalcony\",\"hasElevator\",\"hasSecurity\",\"hasStorageRoom\",'condition'],axis=1,inplace=True)"
      ],
      "metadata": {
        "id": "95RDxtDJu12L"
      },
      "execution_count": null,
      "outputs": []
    },
    {
      "cell_type": "code",
      "source": [
        "data = data.dropna()"
      ],
      "metadata": {
        "id": "k1KrlwquvEkr"
      },
      "execution_count": null,
      "outputs": []
    },
    {
      "cell_type": "code",
      "source": [
        "Outlierek törlése"
      ],
      "metadata": {
        "id": "XhM5yS9g4B-2"
      },
      "execution_count": null,
      "outputs": []
    },
    {
      "cell_type": "code",
      "source": [
        "price = data['price'].values\n",
        "figure, axe = plt.subplots()\n",
        "axe.set_title('price')\n",
        "axe.boxplot(price)\n",
        "plt.show()"
      ],
      "metadata": {
        "colab": {
          "base_uri": "https://localhost:8080/",
          "height": 452
        },
        "id": "Xd1_C-PDv72L",
        "outputId": "47bbb06c-93b9-4d8b-caed-d8d0ffa48cc9"
      },
      "execution_count": null,
      "outputs": [
        {
          "output_type": "display_data",
          "data": {
            "text/plain": [
              "<Figure size 640x480 with 1 Axes>"
            ],
            "image/png": "[encoded data removed]"
          },
          "metadata": {}
        }
      ]
    },
    {
      "cell_type": "code",
      "source": [
        "Q1 = data['price'].quantile(0.25)\n",
        "Q3 = data['price'].quantile(0.75)\n",
        "\n",
        "IQR = Q3 - Q1\n",
        "Felsolimit = Q3 + 1.5 * IQR\n",
        "Alsolimit = Q1 - 1.5 * IQR\n",
        "print('Alsolimit {}  Felsolimit {}'.format(Alsolimit, Felsolimit))"
      ],
      "metadata": {
        "colab": {
          "base_uri": "https://localhost:8080/"
        },
        "id": "MrpMNo6bv9Tj",
        "outputId": "53c50928-337e-4225-b184-51db346bf8b2"
      },
      "execution_count": null,
      "outputs": [
        {
          "output_type": "stream",
          "name": "stdout",
          "text": [
            "Alsolimit -97500.0  Felsolimit 1466500.0\n"
          ]
        }
      ]
    },
    {
      "cell_type": "code",
      "source": [
        "outlier_indices = data[(data['price'] < Alsolimit) | (data['price'] > Felsolimit)].index\n",
        "df_no_outliers = data.drop(index=outlier_indices)"
      ],
      "metadata": {
        "id": "y1hUdBo2wvEr"
      },
      "execution_count": null,
      "outputs": []
    },
    {
      "cell_type": "code",
      "source": [
        "data.info()"
      ],
      "metadata": {
        "colab": {
          "base_uri": "https://localhost:8080/"
        },
        "id": "KZS_weik3Moi",
        "outputId": "1b183b1a-42bf-41e3-ae98-8fdcc7c95fcc"
      },
      "execution_count": null,
      "outputs": [
        {
          "output_type": "stream",
          "name": "stdout",
          "text": [
            "<class 'pandas.core.frame.DataFrame'>\n",
            "Int64Index: 15134 entries, 0 to 16689\n",
            "Data columns (total 22 columns):\n",
            " #   Column                Non-Null Count  Dtype  \n",
            "---  ------                --------------  -----  \n",
            " 0   city                  15134 non-null  int64  \n",
            " 1   type                  15134 non-null  int64  \n",
            " 2   squareMeters          15134 non-null  float64\n",
            " 3   rooms                 15134 non-null  float64\n",
            " 4   floor                 15134 non-null  float64\n",
            " 5   floorCount            15134 non-null  float64\n",
            " 6   buildYear             15134 non-null  float64\n",
            " 7   centreDistance        15134 non-null  float64\n",
            " 8   schoolDistance        15134 non-null  float64\n",
            " 9   clinicDistance        15134 non-null  float64\n",
            " 10  postOfficeDistance    15134 non-null  float64\n",
            " 11  kindergartenDistance  15134 non-null  float64\n",
            " 12  restaurantDistance    15134 non-null  float64\n",
            " 13  collegeDistance       15134 non-null  float64\n",
            " 14  pharmacyDistance      15134 non-null  float64\n",
            " 15  ownership             15134 non-null  float64\n",
            " 16  hasParkingSpace       15134 non-null  int64  \n",
            " 17  hasBalcony            15134 non-null  int64  \n",
            " 18  hasElevator           15134 non-null  int64  \n",
            " 19  hasSecurity           15134 non-null  int64  \n",
            " 20  hasStorageRoom        15134 non-null  int64  \n",
            " 21  price                 15134 non-null  int64  \n",
            "dtypes: float64(14), int64(8)\n",
            "memory usage: 3.2 MB\n"
          ]
        }
      ]
    },
    {
      "cell_type": "markdown",
      "source": [
        "Gépitanulás"
      ],
      "metadata": {
        "id": "KcuWxQZv4KIG"
      }
    },
    {
      "cell_type": "code",
      "source": [
        "y=data['price'].values\n",
        "x=data.drop(['price'],axis=1).values"
      ],
      "metadata": {
        "id": "PYLcY3Jj_BU6"
      },
      "execution_count": null,
      "outputs": []
    },
    {
      "cell_type": "code",
      "source": [
        "from sklearn.model_selection import train_test_split\n",
        "xtrain,xtest,ytrain,ytest=train_test_split(x,y,test_size=0.2,random_state=42)"
      ],
      "metadata": {
        "id": "9j9I0xZh67WT"
      },
      "execution_count": null,
      "outputs": []
    },
    {
      "cell_type": "code",
      "source": [
        "import matplotlib.pyplot as plt\n",
        "plt.figure()\n",
        "plt.plot(range(len(y)),y)\n",
        "plt.show()"
      ],
      "metadata": {
        "colab": {
          "base_uri": "https://localhost:8080/",
          "height": 445
        },
        "id": "DyCl7LsdNmHL",
        "outputId": "d79b5e7e-de36-4902-dfaf-9cd39002fe99"
      },
      "execution_count": null,
      "outputs": [
        {
          "output_type": "display_data",
          "data": {
            "text/plain": [
              "<Figure size 640x480 with 1 Axes>"
            ],
            "image/png": "[encoded data removed]"
          },
          "metadata": {}
        }
      ]
    },
    {
      "cell_type": "code",
      "source": [
        "from sklearn.linear_model import LinearRegression\n",
        "model = LinearRegression()\n",
        "model.fit(xtrain,ytrain)"
      ],
      "metadata": {
        "colab": {
          "base_uri": "https://localhost:8080/",
          "height": 74
        },
        "id": "9H9YXBwN68vc",
        "outputId": "9b26faef-a9cb-48fa-abc9-8912b09e7c79"
      },
      "execution_count": null,
      "outputs": [
        {
          "output_type": "execute_result",
          "data": {
            "text/plain": [
              "LinearRegression()"
            ],
            "text/html": [
              "<style>#sk-container-id-1 {color: black;background-color: white;}#sk-container-id-1 pre{padding: 0;}#sk-container-id-1 div.sk-toggleable {background-color: white;}#sk-container-id-1 label.sk-toggleable__label {cursor: pointer;display: block;width: 100%;margin-bottom: 0;padding: 0.3em;box-sizing: border-box;text-align: center;}#sk-container-id-1 label.sk-toggleable__label-arrow:before {content: \"▸\";float: left;margin-right: 0.25em;color: #696969;}#sk-container-id-1 label.sk-toggleable__label-arrow:hover:before {color: black;}#sk-container-id-1 div.sk-estimator:hover label.sk-toggleable__label-arrow:before {color: black;}#sk-container-id-1 div.sk-toggleable__content {max-height: 0;max-width: 0;overflow: hidden;text-align: left;background-color: #f0f8ff;}#sk-container-id-1 div.sk-toggleable__content pre {margin: 0.2em;color: black;border-radius: 0.25em;background-color: #f0f8ff;}#sk-container-id-1 input.sk-toggleable__control:checked~div.sk-toggleable__content {max-height: 200px;max-width: 100%;overflow: auto;}#sk-container-id-1 input.sk-toggleable__control:checked~label.sk-toggleable__label-arrow:before {content: \"▾\";}#sk-container-id-1 div.sk-estimator input.sk-toggleable__control:checked~label.sk-toggleable__label {background-color: #d4ebff;}#sk-container-id-1 div.sk-label input.sk-toggleable__control:checked~label.sk-toggleable__label {background-color: #d4ebff;}#sk-container-id-1 input.sk-hidden--visually {border: 0;clip: rect(1px 1px 1px 1px);clip: rect(1px, 1px, 1px, 1px);height: 1px;margin: -1px;overflow: hidden;padding: 0;position: absolute;width: 1px;}#sk-container-id-1 div.sk-estimator {font-family: monospace;background-color: #f0f8ff;border: 1px dotted black;border-radius: 0.25em;box-sizing: border-box;margin-bottom: 0.5em;}#sk-container-id-1 div.sk-estimator:hover {background-color: #d4ebff;}#sk-container-id-1 div.sk-parallel-item::after {content: \"\";width: 100%;border-bottom: 1px solid gray;flex-grow: 1;}#sk-container-id-1 div.sk-label:hover label.sk-toggleable__label {background-color: #d4ebff;}#sk-container-id-1 div.sk-serial::before {content: \"\";position: absolute;border-left: 1px solid gray;box-sizing: border-box;top: 0;bottom: 0;left: 50%;z-index: 0;}#sk-container-id-1 div.sk-serial {display: flex;flex-direction: column;align-items: center;background-color: white;padding-right: 0.2em;padding-left: 0.2em;position: relative;}#sk-container-id-1 div.sk-item {position: relative;z-index: 1;}#sk-container-id-1 div.sk-parallel {display: flex;align-items: stretch;justify-content: center;background-color: white;position: relative;}#sk-container-id-1 div.sk-item::before, #sk-container-id-1 div.sk-parallel-item::before {content: \"\";position: absolute;border-left: 1px solid gray;box-sizing: border-box;top: 0;bottom: 0;left: 50%;z-index: -1;}#sk-container-id-1 div.sk-parallel-item {display: flex;flex-direction: column;z-index: 1;position: relative;background-color: white;}#sk-container-id-1 div.sk-parallel-item:first-child::after {align-self: flex-end;width: 50%;}#sk-container-id-1 div.sk-parallel-item:last-child::after {align-self: flex-start;width: 50%;}#sk-container-id-1 div.sk-parallel-item:only-child::after {width: 0;}#sk-container-id-1 div.sk-dashed-wrapped {border: 1px dashed gray;margin: 0 0.4em 0.5em 0.4em;box-sizing: border-box;padding-bottom: 0.4em;background-color: white;}#sk-container-id-1 div.sk-label label {font-family: monospace;font-weight: bold;display: inline-block;line-height: 1.2em;}#sk-container-id-1 div.sk-label-container {text-align: center;}#sk-container-id-1 div.sk-container {/* jupyter's `normalize.less` sets `[hidden] { display: none; }` but bootstrap.min.css set `[hidden] { display: none !important; }` so we also need the `!important` here to be able to override the default hidden behavior on the sphinx rendered scikit-learn.org. See: https://github.com/scikit-learn/scikit-learn/issues/21755 */display: inline-block !important;position: relative;}#sk-container-id-1 div.sk-text-repr-fallback {display: none;}</style><div id=\"sk-container-id-1\" class=\"sk-top-container\"><div class=\"sk-text-repr-fallback\"><pre>LinearRegression()</pre><b>In a Jupyter environment, please rerun this cell to show the HTML representation or trust the notebook. <br />On GitHub, the HTML representation is unable to render, please try loading this page with nbviewer.org.</b></div><div class=\"sk-container\" hidden><div class=\"sk-item\"><div class=\"sk-estimator sk-toggleable\"><input class=\"sk-toggleable__control sk-hidden--visually\" id=\"sk-estimator-id-1\" type=\"checkbox\" checked><label for=\"sk-estimator-id-1\" class=\"sk-toggleable__label sk-toggleable__label-arrow\">LinearRegression</label><div class=\"sk-toggleable__content\"><pre>LinearRegression()</pre></div></div></div></div></div>"
            ]
          },
          "metadata": {},
          "execution_count": 25
        }
      ]
    },
    {
      "cell_type": "code",
      "source": [
        "y_pred = model.predict(xtest)\n",
        "\n",
        "from sklearn.metrics import mean_squared_error, r2_score, mean_absolute_error, mean_absolute_percentage_error\n",
        "\n",
        "mape = mean_absolute_percentage_error(ytest, y_pred)\n",
        "mae = mean_absolute_error(ytest,y_pred)\n",
        "mse = mean_squared_error(ytest, y_pred)\n",
        "r2 = r2_score(ytest, y_pred)\n",
        "\n",
        "print('Linear Regression')\n",
        "print(f'Mean Absolute Percentage Error: {mape}')\n",
        "print(f'Mean Absolute Error: {mae}')\n",
        "print(f'Mean Squared Error: {mse}')\n",
        "print(f'R-squared: {r2}')"
      ],
      "metadata": {
        "colab": {
          "base_uri": "https://localhost:8080/"
        },
        "id": "dYgpNF3q-UXj",
        "outputId": "374de736-4186-4681-88f2-46e7163a26d2"
      },
      "execution_count": null,
      "outputs": [
        {
          "output_type": "stream",
          "name": "stdout",
          "text": [
            "Linear Regression\n",
            "Mean Absolute Percentage Error: 0.21152152827884546\n",
            "Mean Absolute Error: 140474.58662619715\n",
            "Mean Squared Error: 39217472658.93826\n",
            "R-squared: 0.687506366654842\n"
          ]
        }
      ]
    },
    {
      "cell_type": "code",
      "source": [
        "y_pred.shape"
      ],
      "metadata": {
        "colab": {
          "base_uri": "https://localhost:8080/"
        },
        "id": "CGpDsZ4rOEAR",
        "outputId": "8c847a71-7614-4e90-d7df-3ca76053bffe"
      },
      "execution_count": null,
      "outputs": [
        {
          "output_type": "execute_result",
          "data": {
            "text/plain": [
              "(3027,)"
            ]
          },
          "metadata": {},
          "execution_count": 27
        }
      ]
    },
    {
      "cell_type": "code",
      "source": [
        "import matplotlib.pyplot as plt\n",
        "plt.figure()\n",
        "plt.plot(range(len(ytest)),ytest,'ob')\n",
        "plt.plot(range(len(ytest)),y_pred,'-r')\n",
        "plt.show()"
      ],
      "metadata": {
        "colab": {
          "base_uri": "https://localhost:8080/",
          "height": 445
        },
        "id": "dD0z6LhXNxEZ",
        "outputId": "9a296c2b-628f-4d46-d9de-2f88f7509c11"
      },
      "execution_count": null,
      "outputs": [
        {
          "output_type": "display_data",
          "data": {
            "text/plain": [
              "<Figure size 640x480 with 1 Axes>"
            ],
            "image/png": "[encoded data removed]"
          },
          "metadata": {}
        }
      ]
    },
    {
      "cell_type": "code",
      "source": [
        "from sklearn.ensemble import RandomForestRegressor\n",
        "regressor = RandomForestRegressor(n_estimators=180,max_depth=50,min_samples_leaf=2,max_leaf_nodes=90)\n",
        "regressor.fit(xtrain,ytrain)"
      ],
      "metadata": {
        "colab": {
          "base_uri": "https://localhost:8080/",
          "height": 92
        },
        "id": "WIJDqdAdD4bb",
        "outputId": "b8e08313-c18b-4829-b1d9-3722cfae3b8c"
      },
      "execution_count": null,
      "outputs": [
        {
          "output_type": "execute_result",
          "data": {
            "text/plain": [
              "RandomForestRegressor(max_depth=50, max_leaf_nodes=90, min_samples_leaf=2,\n",
              "                      n_estimators=180)"
            ],
            "text/html": [
              "<style>#sk-container-id-2 {color: black;background-color: white;}#sk-container-id-2 pre{padding: 0;}#sk-container-id-2 div.sk-toggleable {background-color: white;}#sk-container-id-2 label.sk-toggleable__label {cursor: pointer;display: block;width: 100%;margin-bottom: 0;padding: 0.3em;box-sizing: border-box;text-align: center;}#sk-container-id-2 label.sk-toggleable__label-arrow:before {content: \"▸\";float: left;margin-right: 0.25em;color: #696969;}#sk-container-id-2 label.sk-toggleable__label-arrow:hover:before {color: black;}#sk-container-id-2 div.sk-estimator:hover label.sk-toggleable__label-arrow:before {color: black;}#sk-container-id-2 div.sk-toggleable__content {max-height: 0;max-width: 0;overflow: hidden;text-align: left;background-color: #f0f8ff;}#sk-container-id-2 div.sk-toggleable__content pre {margin: 0.2em;color: black;border-radius: 0.25em;background-color: #f0f8ff;}#sk-container-id-2 input.sk-toggleable__control:checked~div.sk-toggleable__content {max-height: 200px;max-width: 100%;overflow: auto;}#sk-container-id-2 input.sk-toggleable__control:checked~label.sk-toggleable__label-arrow:before {content: \"▾\";}#sk-container-id-2 div.sk-estimator input.sk-toggleable__control:checked~label.sk-toggleable__label {background-color: #d4ebff;}#sk-container-id-2 div.sk-label input.sk-toggleable__control:checked~label.sk-toggleable__label {background-color: #d4ebff;}#sk-container-id-2 input.sk-hidden--visually {border: 0;clip: rect(1px 1px 1px 1px);clip: rect(1px, 1px, 1px, 1px);height: 1px;margin: -1px;overflow: hidden;padding: 0;position: absolute;width: 1px;}#sk-container-id-2 div.sk-estimator {font-family: monospace;background-color: #f0f8ff;border: 1px dotted black;border-radius: 0.25em;box-sizing: border-box;margin-bottom: 0.5em;}#sk-container-id-2 div.sk-estimator:hover {background-color: #d4ebff;}#sk-container-id-2 div.sk-parallel-item::after {content: \"\";width: 100%;border-bottom: 1px solid gray;flex-grow: 1;}#sk-container-id-2 div.sk-label:hover label.sk-toggleable__label {background-color: #d4ebff;}#sk-container-id-2 div.sk-serial::before {content: \"\";position: absolute;border-left: 1px solid gray;box-sizing: border-box;top: 0;bottom: 0;left: 50%;z-index: 0;}#sk-container-id-2 div.sk-serial {display: flex;flex-direction: column;align-items: center;background-color: white;padding-right: 0.2em;padding-left: 0.2em;position: relative;}#sk-container-id-2 div.sk-item {position: relative;z-index: 1;}#sk-container-id-2 div.sk-parallel {display: flex;align-items: stretch;justify-content: center;background-color: white;position: relative;}#sk-container-id-2 div.sk-item::before, #sk-container-id-2 div.sk-parallel-item::before {content: \"\";position: absolute;border-left: 1px solid gray;box-sizing: border-box;top: 0;bottom: 0;left: 50%;z-index: -1;}#sk-container-id-2 div.sk-parallel-item {display: flex;flex-direction: column;z-index: 1;position: relative;background-color: white;}#sk-container-id-2 div.sk-parallel-item:first-child::after {align-self: flex-end;width: 50%;}#sk-container-id-2 div.sk-parallel-item:last-child::after {align-self: flex-start;width: 50%;}#sk-container-id-2 div.sk-parallel-item:only-child::after {width: 0;}#sk-container-id-2 div.sk-dashed-wrapped {border: 1px dashed gray;margin: 0 0.4em 0.5em 0.4em;box-sizing: border-box;padding-bottom: 0.4em;background-color: white;}#sk-container-id-2 div.sk-label label {font-family: monospace;font-weight: bold;display: inline-block;line-height: 1.2em;}#sk-container-id-2 div.sk-label-container {text-align: center;}#sk-container-id-2 div.sk-container {/* jupyter's `normalize.less` sets `[hidden] { display: none; }` but bootstrap.min.css set `[hidden] { display: none !important; }` so we also need the `!important` here to be able to override the default hidden behavior on the sphinx rendered scikit-learn.org. See: https://github.com/scikit-learn/scikit-learn/issues/21755 */display: inline-block !important;position: relative;}#sk-container-id-2 div.sk-text-repr-fallback {display: none;}</style><div id=\"sk-container-id-2\" class=\"sk-top-container\"><div class=\"sk-text-repr-fallback\"><pre>RandomForestRegressor(max_depth=50, max_leaf_nodes=90, min_samples_leaf=2,\n",
              "                      n_estimators=180)</pre><b>In a Jupyter environment, please rerun this cell to show the HTML representation or trust the notebook. <br />On GitHub, the HTML representation is unable to render, please try loading this page with nbviewer.org.</b></div><div class=\"sk-container\" hidden><div class=\"sk-item\"><div class=\"sk-estimator sk-toggleable\"><input class=\"sk-toggleable__control sk-hidden--visually\" id=\"sk-estimator-id-2\" type=\"checkbox\" checked><label for=\"sk-estimator-id-2\" class=\"sk-toggleable__label sk-toggleable__label-arrow\">RandomForestRegressor</label><div class=\"sk-toggleable__content\"><pre>RandomForestRegressor(max_depth=50, max_leaf_nodes=90, min_samples_leaf=2,\n",
              "                      n_estimators=180)</pre></div></div></div></div></div>"
            ]
          },
          "metadata": {},
          "execution_count": 29
        }
      ]
    },
    {
      "cell_type": "code",
      "source": [
        "y_pred = regressor.predict(xtest)\n",
        "\n",
        "from sklearn.metrics import mean_squared_error, r2_score, mean_absolute_error, mean_absolute_percentage_error\n",
        "\n",
        "mape = mean_absolute_percentage_error(ytest, y_pred)\n",
        "mae = mean_absolute_error(ytest,y_pred)\n",
        "mse = mean_squared_error(ytest, y_pred)\n",
        "r2 = r2_score(ytest, y_pred)\n",
        "\n",
        "print(f'Mean Absolute Percentage Error: {mape}')\n",
        "print(f'Mean Absolute Error: {mae}')\n",
        "print(f'Mean Squared Error: {mse}')\n",
        "print(f'R-squared: {r2}')"
      ],
      "metadata": {
        "colab": {
          "base_uri": "https://localhost:8080/"
        },
        "id": "s3dEKT4IEQ-D",
        "outputId": "b46d16f4-828d-4edb-9a24-a86d97bc8e62"
      },
      "execution_count": null,
      "outputs": [
        {
          "output_type": "stream",
          "name": "stdout",
          "text": [
            "Mean Absolute Percentage Error: 0.16063840724068706\n",
            "Mean Absolute Error: 111714.52831218993\n",
            "Mean Squared Error: 24406483800.662815\n",
            "R-squared: 0.8055236535414378\n"
          ]
        }
      ]
    },
    {
      "cell_type": "code",
      "source": [
        "from sklearn.svm import SVR\n",
        "\n",
        "model = SVR(kernel='linear', C=1.0, epsilon=0.4)  #hyperparameters\n",
        "model.fit(xtrain, ytrain)"
      ],
      "metadata": {
        "colab": {
          "base_uri": "https://localhost:8080/",
          "height": 74
        },
        "id": "FGu5FkPWERoi",
        "outputId": "a23ed6b2-8489-4abe-df91-0f6a3dfac89a"
      },
      "execution_count": null,
      "outputs": [
        {
          "output_type": "execute_result",
          "data": {
            "text/plain": [
              "SVR(epsilon=0.4, kernel='linear')"
            ],
            "text/html": [
              "<style>#sk-container-id-3 {color: black;background-color: white;}#sk-container-id-3 pre{padding: 0;}#sk-container-id-3 div.sk-toggleable {background-color: white;}#sk-container-id-3 label.sk-toggleable__label {cursor: pointer;display: block;width: 100%;margin-bottom: 0;padding: 0.3em;box-sizing: border-box;text-align: center;}#sk-container-id-3 label.sk-toggleable__label-arrow:before {content: \"▸\";float: left;margin-right: 0.25em;color: #696969;}#sk-container-id-3 label.sk-toggleable__label-arrow:hover:before {color: black;}#sk-container-id-3 div.sk-estimator:hover label.sk-toggleable__label-arrow:before {color: black;}#sk-container-id-3 div.sk-toggleable__content {max-height: 0;max-width: 0;overflow: hidden;text-align: left;background-color: #f0f8ff;}#sk-container-id-3 div.sk-toggleable__content pre {margin: 0.2em;color: black;border-radius: 0.25em;background-color: #f0f8ff;}#sk-container-id-3 input.sk-toggleable__control:checked~div.sk-toggleable__content {max-height: 200px;max-width: 100%;overflow: auto;}#sk-container-id-3 input.sk-toggleable__control:checked~label.sk-toggleable__label-arrow:before {content: \"▾\";}#sk-container-id-3 div.sk-estimator input.sk-toggleable__control:checked~label.sk-toggleable__label {background-color: #d4ebff;}#sk-container-id-3 div.sk-label input.sk-toggleable__control:checked~label.sk-toggleable__label {background-color: #d4ebff;}#sk-container-id-3 input.sk-hidden--visually {border: 0;clip: rect(1px 1px 1px 1px);clip: rect(1px, 1px, 1px, 1px);height: 1px;margin: -1px;overflow: hidden;padding: 0;position: absolute;width: 1px;}#sk-container-id-3 div.sk-estimator {font-family: monospace;background-color: #f0f8ff;border: 1px dotted black;border-radius: 0.25em;box-sizing: border-box;margin-bottom: 0.5em;}#sk-container-id-3 div.sk-estimator:hover {background-color: #d4ebff;}#sk-container-id-3 div.sk-parallel-item::after {content: \"\";width: 100%;border-bottom: 1px solid gray;flex-grow: 1;}#sk-container-id-3 div.sk-label:hover label.sk-toggleable__label {background-color: #d4ebff;}#sk-container-id-3 div.sk-serial::before {content: \"\";position: absolute;border-left: 1px solid gray;box-sizing: border-box;top: 0;bottom: 0;left: 50%;z-index: 0;}#sk-container-id-3 div.sk-serial {display: flex;flex-direction: column;align-items: center;background-color: white;padding-right: 0.2em;padding-left: 0.2em;position: relative;}#sk-container-id-3 div.sk-item {position: relative;z-index: 1;}#sk-container-id-3 div.sk-parallel {display: flex;align-items: stretch;justify-content: center;background-color: white;position: relative;}#sk-container-id-3 div.sk-item::before, #sk-container-id-3 div.sk-parallel-item::before {content: \"\";position: absolute;border-left: 1px solid gray;box-sizing: border-box;top: 0;bottom: 0;left: 50%;z-index: -1;}#sk-container-id-3 div.sk-parallel-item {display: flex;flex-direction: column;z-index: 1;position: relative;background-color: white;}#sk-container-id-3 div.sk-parallel-item:first-child::after {align-self: flex-end;width: 50%;}#sk-container-id-3 div.sk-parallel-item:last-child::after {align-self: flex-start;width: 50%;}#sk-container-id-3 div.sk-parallel-item:only-child::after {width: 0;}#sk-container-id-3 div.sk-dashed-wrapped {border: 1px dashed gray;margin: 0 0.4em 0.5em 0.4em;box-sizing: border-box;padding-bottom: 0.4em;background-color: white;}#sk-container-id-3 div.sk-label label {font-family: monospace;font-weight: bold;display: inline-block;line-height: 1.2em;}#sk-container-id-3 div.sk-label-container {text-align: center;}#sk-container-id-3 div.sk-container {/* jupyter's `normalize.less` sets `[hidden] { display: none; }` but bootstrap.min.css set `[hidden] { display: none !important; }` so we also need the `!important` here to be able to override the default hidden behavior on the sphinx rendered scikit-learn.org. See: https://github.com/scikit-learn/scikit-learn/issues/21755 */display: inline-block !important;position: relative;}#sk-container-id-3 div.sk-text-repr-fallback {display: none;}</style><div id=\"sk-container-id-3\" class=\"sk-top-container\"><div class=\"sk-text-repr-fallback\"><pre>SVR(epsilon=0.4, kernel=&#x27;linear&#x27;)</pre><b>In a Jupyter environment, please rerun this cell to show the HTML representation or trust the notebook. <br />On GitHub, the HTML representation is unable to render, please try loading this page with nbviewer.org.</b></div><div class=\"sk-container\" hidden><div class=\"sk-item\"><div class=\"sk-estimator sk-toggleable\"><input class=\"sk-toggleable__control sk-hidden--visually\" id=\"sk-estimator-id-3\" type=\"checkbox\" checked><label for=\"sk-estimator-id-3\" class=\"sk-toggleable__label sk-toggleable__label-arrow\">SVR</label><div class=\"sk-toggleable__content\"><pre>SVR(epsilon=0.4, kernel=&#x27;linear&#x27;)</pre></div></div></div></div></div>"
            ]
          },
          "metadata": {},
          "execution_count": 31
        }
      ]
    },
    {
      "cell_type": "code",
      "source": [
        "y_pred = model.predict(xtest)\n",
        "\n",
        "from sklearn.metrics import mean_squared_error, r2_score, mean_absolute_error, mean_absolute_percentage_error\n",
        "\n",
        "mape = mean_absolute_percentage_error(ytest, y_pred)\n",
        "mae = mean_absolute_error(ytest,y_pred)\n",
        "mse = mean_squared_error(ytest, y_pred)\n",
        "r2 = r2_score(ytest, y_pred)\n",
        "\n",
        "print(f'Mean Absolute Percentage Error: {mape}')\n",
        "print(f'Mean Absolute Error: {mae}')\n",
        "print(f'Mean Squared Error: {mse}')\n",
        "print(f'R-squared: {r2}')"
      ],
      "metadata": {
        "colab": {
          "base_uri": "https://localhost:8080/"
        },
        "id": "XI0G89o5Yuuy",
        "outputId": "a1a2ddab-009f-4d0b-933a-ec7791cc58a0"
      },
      "execution_count": null,
      "outputs": [
        {
          "output_type": "stream",
          "name": "stdout",
          "text": [
            "Mean Absolute Percentage Error: 0.21859717939328893\n",
            "Mean Absolute Error: 157905.36023084243\n",
            "Mean Squared Error: 55270421747.99302\n",
            "R-squared: 0.5595928616115677\n"
          ]
        }
      ]
    },
    {
      "cell_type": "code",
      "source": [
        "from sklearn.ensemble import GradientBoostingRegressor\n",
        "\n",
        "model = GradientBoostingRegressor(n_estimators=100, learning_rate=0.1, max_depth=5, random_state=0)  # Adjust hyperparameters as needed\n",
        "model.fit(xtrain, ytrain)"
      ],
      "metadata": {
        "colab": {
          "base_uri": "https://localhost:8080/",
          "height": 74
        },
        "id": "d75Yl68muvxC",
        "outputId": "9c0b7fd5-ba8c-4cac-c581-90f5f53eb433"
      },
      "execution_count": null,
      "outputs": [
        {
          "output_type": "execute_result",
          "data": {
            "text/plain": [
              "GradientBoostingRegressor(max_depth=5, random_state=0)"
            ],
            "text/html": [
              "<style>#sk-container-id-4 {color: black;background-color: white;}#sk-container-id-4 pre{padding: 0;}#sk-container-id-4 div.sk-toggleable {background-color: white;}#sk-container-id-4 label.sk-toggleable__label {cursor: pointer;display: block;width: 100%;margin-bottom: 0;padding: 0.3em;box-sizing: border-box;text-align: center;}#sk-container-id-4 label.sk-toggleable__label-arrow:before {content: \"▸\";float: left;margin-right: 0.25em;color: #696969;}#sk-container-id-4 label.sk-toggleable__label-arrow:hover:before {color: black;}#sk-container-id-4 div.sk-estimator:hover label.sk-toggleable__label-arrow:before {color: black;}#sk-container-id-4 div.sk-toggleable__content {max-height: 0;max-width: 0;overflow: hidden;text-align: left;background-color: #f0f8ff;}#sk-container-id-4 div.sk-toggleable__content pre {margin: 0.2em;color: black;border-radius: 0.25em;background-color: #f0f8ff;}#sk-container-id-4 input.sk-toggleable__control:checked~div.sk-toggleable__content {max-height: 200px;max-width: 100%;overflow: auto;}#sk-container-id-4 input.sk-toggleable__control:checked~label.sk-toggleable__label-arrow:before {content: \"▾\";}#sk-container-id-4 div.sk-estimator input.sk-toggleable__control:checked~label.sk-toggleable__label {background-color: #d4ebff;}#sk-container-id-4 div.sk-label input.sk-toggleable__control:checked~label.sk-toggleable__label {background-color: #d4ebff;}#sk-container-id-4 input.sk-hidden--visually {border: 0;clip: rect(1px 1px 1px 1px);clip: rect(1px, 1px, 1px, 1px);height: 1px;margin: -1px;overflow: hidden;padding: 0;position: absolute;width: 1px;}#sk-container-id-4 div.sk-estimator {font-family: monospace;background-color: #f0f8ff;border: 1px dotted black;border-radius: 0.25em;box-sizing: border-box;margin-bottom: 0.5em;}#sk-container-id-4 div.sk-estimator:hover {background-color: #d4ebff;}#sk-container-id-4 div.sk-parallel-item::after {content: \"\";width: 100%;border-bottom: 1px solid gray;flex-grow: 1;}#sk-container-id-4 div.sk-label:hover label.sk-toggleable__label {background-color: #d4ebff;}#sk-container-id-4 div.sk-serial::before {content: \"\";position: absolute;border-left: 1px solid gray;box-sizing: border-box;top: 0;bottom: 0;left: 50%;z-index: 0;}#sk-container-id-4 div.sk-serial {display: flex;flex-direction: column;align-items: center;background-color: white;padding-right: 0.2em;padding-left: 0.2em;position: relative;}#sk-container-id-4 div.sk-item {position: relative;z-index: 1;}#sk-container-id-4 div.sk-parallel {display: flex;align-items: stretch;justify-content: center;background-color: white;position: relative;}#sk-container-id-4 div.sk-item::before, #sk-container-id-4 div.sk-parallel-item::before {content: \"\";position: absolute;border-left: 1px solid gray;box-sizing: border-box;top: 0;bottom: 0;left: 50%;z-index: -1;}#sk-container-id-4 div.sk-parallel-item {display: flex;flex-direction: column;z-index: 1;position: relative;background-color: white;}#sk-container-id-4 div.sk-parallel-item:first-child::after {align-self: flex-end;width: 50%;}#sk-container-id-4 div.sk-parallel-item:last-child::after {align-self: flex-start;width: 50%;}#sk-container-id-4 div.sk-parallel-item:only-child::after {width: 0;}#sk-container-id-4 div.sk-dashed-wrapped {border: 1px dashed gray;margin: 0 0.4em 0.5em 0.4em;box-sizing: border-box;padding-bottom: 0.4em;background-color: white;}#sk-container-id-4 div.sk-label label {font-family: monospace;font-weight: bold;display: inline-block;line-height: 1.2em;}#sk-container-id-4 div.sk-label-container {text-align: center;}#sk-container-id-4 div.sk-container {/* jupyter's `normalize.less` sets `[hidden] { display: none; }` but bootstrap.min.css set `[hidden] { display: none !important; }` so we also need the `!important` here to be able to override the default hidden behavior on the sphinx rendered scikit-learn.org. See: https://github.com/scikit-learn/scikit-learn/issues/21755 */display: inline-block !important;position: relative;}#sk-container-id-4 div.sk-text-repr-fallback {display: none;}</style><div id=\"sk-container-id-4\" class=\"sk-top-container\"><div class=\"sk-text-repr-fallback\"><pre>GradientBoostingRegressor(max_depth=5, random_state=0)</pre><b>In a Jupyter environment, please rerun this cell to show the HTML representation or trust the notebook. <br />On GitHub, the HTML representation is unable to render, please try loading this page with nbviewer.org.</b></div><div class=\"sk-container\" hidden><div class=\"sk-item\"><div class=\"sk-estimator sk-toggleable\"><input class=\"sk-toggleable__control sk-hidden--visually\" id=\"sk-estimator-id-4\" type=\"checkbox\" checked><label for=\"sk-estimator-id-4\" class=\"sk-toggleable__label sk-toggleable__label-arrow\">GradientBoostingRegressor</label><div class=\"sk-toggleable__content\"><pre>GradientBoostingRegressor(max_depth=5, random_state=0)</pre></div></div></div></div></div>"
            ]
          },
          "metadata": {},
          "execution_count": 33
        }
      ]
    },
    {
      "cell_type": "code",
      "source": [
        "y_pred = model.predict(xtest)\n",
        "\n",
        "from sklearn.metrics import mean_squared_error, r2_score\n",
        "\n",
        "mape = mean_absolute_percentage_error(ytest, y_pred)\n",
        "mae = mean_absolute_error(ytest,y_pred)\n",
        "mse = mean_squared_error(ytest, y_pred)\n",
        "r2 = r2_score(ytest, y_pred)\n",
        "\n",
        "print(f'Mean Absolute Percentage Error: {mape}')\n",
        "print(f'Mean Absolute Error: {mae}')\n",
        "print(f'Mean Squared Error: {mse}')\n",
        "print(f'R-squared: {r2}')"
      ],
      "metadata": {
        "colab": {
          "base_uri": "https://localhost:8080/"
        },
        "id": "Ar72kcQnuwm9",
        "outputId": "9abcbbfb-5cb1-46ef-865b-99223ee7c584"
      },
      "execution_count": null,
      "outputs": [
        {
          "output_type": "stream",
          "name": "stdout",
          "text": [
            "Mean Absolute Percentage Error: 0.13068566298316972\n",
            "Mean Absolute Error: 94635.18637204406\n",
            "Mean Squared Error: 19297081021.65873\n",
            "R-squared: 0.8462365228413145\n"
          ]
        }
      ]
    },
    {
      "cell_type": "code",
      "source": [
        "import joblib\n",
        "\n",
        "joblib.dump(model, 'mymodel.joblib')"
      ],
      "metadata": {
        "colab": {
          "base_uri": "https://localhost:8080/"
        },
        "id": "vFpklUqx3-IS",
        "outputId": "e0b585a9-52d7-4b55-9f7c-0b1648ee93e0"
      },
      "execution_count": null,
      "outputs": [
        {
          "output_type": "execute_result",
          "data": {
            "text/plain": [
              "['mymodel.joblib']"
            ]
          },
          "metadata": {},
          "execution_count": 35
        }
      ]
    },
    {
      "cell_type": "code",
      "source": [
        "!pip install streamlit"
      ],
      "metadata": {
        "colab": {
          "base_uri": "https://localhost:8080/"
        },
        "id": "BZkAsyyD49L5",
        "outputId": "9fb3894a-c2bc-49a8-b7dd-c5d0201b6bac"
      },
      "execution_count": null,
      "outputs": [
        {
          "output_type": "stream",
          "name": "stdout",
          "text": [
            "Collecting streamlit\n",
            "  Downloading streamlit-1.29.0-py2.py3-none-any.whl (8.4 MB)\n",
            "\u001b[2K     \u001b[90m━━━━━━━━━━━━━━━━━━━━━━━━━━━━━━━━━━━━━━━━\u001b[0m \u001b[32m8.4/8.4 MB\u001b[0m \u001b[31m23.5 MB/s\u001b[0m eta \u001b[36m0:00:00\u001b[0m\n",
            "\u001b[?25hRequirement already satisfied: altair<6,>=4.0 in /usr/local/lib/python3.10/dist-packages (from streamlit) (4.2.2)\n",
            "Requirement already satisfied: blinker<2,>=1.0.0 in /usr/lib/python3/dist-packages (from streamlit) (1.4)\n",
            "Requirement already satisfied: cachetools<6,>=4.0 in /usr/local/lib/python3.10/dist-packages (from streamlit) (5.3.2)\n",
            "Requirement already satisfied: click<9,>=7.0 in /usr/local/lib/python3.10/dist-packages (from streamlit) (8.1.7)\n",
            "Collecting importlib-metadata<7,>=1.4 (from streamlit)\n",
            "  Downloading importlib_metadata-6.11.0-py3-none-any.whl (23 kB)\n",
            "Requirement already satisfied: numpy<2,>=1.19.3 in /usr/local/lib/python3.10/dist-packages (from streamlit) (1.23.5)\n",
            "Requirement already satisfied: packaging<24,>=16.8 in /usr/local/lib/python3.10/dist-packages (from streamlit) (23.2)\n",
            "Requirement already satisfied: pandas<3,>=1.3.0 in /usr/local/lib/python3.10/dist-packages (from streamlit) (1.5.3)\n",
            "Requirement already satisfied: pillow<11,>=7.1.0 in /usr/local/lib/python3.10/dist-packages (from streamlit) (9.4.0)\n",
            "Requirement already satisfied: protobuf<5,>=3.20 in /usr/local/lib/python3.10/dist-packages (from streamlit) (3.20.3)\n",
            "Requirement already satisfied: pyarrow>=6.0 in /usr/local/lib/python3.10/dist-packages (from streamlit) (10.0.1)\n",
            "Requirement already satisfied: python-dateutil<3,>=2.7.3 in /usr/local/lib/python3.10/dist-packages (from streamlit) (2.8.2)\n",
            "Requirement already satisfied: requests<3,>=2.27 in /usr/local/lib/python3.10/dist-packages (from streamlit) (2.31.0)\n",
            "Requirement already satisfied: rich<14,>=10.14.0 in /usr/local/lib/python3.10/dist-packages (from streamlit) (13.7.0)\n",
            "Requirement already satisfied: tenacity<9,>=8.1.0 in /usr/local/lib/python3.10/dist-packages (from streamlit) (8.2.3)\n",
            "Requirement already satisfied: toml<2,>=0.10.1 in /usr/local/lib/python3.10/dist-packages (from streamlit) (0.10.2)\n",
            "Requirement already satisfied: typing-extensions<5,>=4.3.0 in /usr/local/lib/python3.10/dist-packages (from streamlit) (4.5.0)\n",
            "Requirement already satisfied: tzlocal<6,>=1.1 in /usr/local/lib/python3.10/dist-packages (from streamlit) (5.2)\n",
            "Collecting validators<1,>=0.2 (from streamlit)\n",
            "  Downloading validators-0.22.0-py3-none-any.whl (26 kB)\n",
            "Collecting gitpython!=3.1.19,<4,>=3.0.7 (from streamlit)\n",
            "  Downloading GitPython-3.1.40-py3-none-any.whl (190 kB)\n",
            "\u001b[2K     \u001b[90m━━━━━━━━━━━━━━━━━━━━━━━━━━━━━━━━━━━━━━━━\u001b[0m \u001b[32m190.6/190.6 kB\u001b[0m \u001b[31m20.9 MB/s\u001b[0m eta \u001b[36m0:00:00\u001b[0m\n",
            "\u001b[?25hCollecting pydeck<1,>=0.8.0b4 (from streamlit)\n",
            "  Downloading pydeck-0.8.1b0-py2.py3-none-any.whl (4.8 MB)\n",
            "\u001b[2K     \u001b[90m━━━━━━━━━━━━━━━━━━━━━━━━━━━━━━━━━━━━━━━━\u001b[0m \u001b[32m4.8/4.8 MB\u001b[0m \u001b[31m61.8 MB/s\u001b[0m eta \u001b[36m0:00:00\u001b[0m\n",
            "\u001b[?25hRequirement already satisfied: tornado<7,>=6.0.3 in /usr/local/lib/python3.10/dist-packages (from streamlit) (6.3.2)\n",
            "Collecting watchdog>=2.1.5 (from streamlit)\n",
            "  Downloading watchdog-3.0.0-py3-none-manylinux2014_x86_64.whl (82 kB)\n",
            "\u001b[2K     \u001b[90m━━━━━━━━━━━━━━━━━━━━━━━━━━━━━━━━━━━━━━━━\u001b[0m \u001b[32m82.1/82.1 kB\u001b[0m \u001b[31m10.5 MB/s\u001b[0m eta \u001b[36m0:00:00\u001b[0m\n",
            "\u001b[?25hRequirement already satisfied: entrypoints in /usr/local/lib/python3.10/dist-packages (from altair<6,>=4.0->streamlit) (0.4)\n",
            "Requirement already satisfied: jinja2 in /usr/local/lib/python3.10/dist-packages (from altair<6,>=4.0->streamlit) (3.1.2)\n",
            "Requirement already satisfied: jsonschema>=3.0 in /usr/local/lib/python3.10/dist-packages (from altair<6,>=4.0->streamlit) (4.19.2)\n",
            "Requirement already satisfied: toolz in /usr/local/lib/python3.10/dist-packages (from altair<6,>=4.0->streamlit) (0.12.0)\n",
            "Collecting gitdb<5,>=4.0.1 (from gitpython!=3.1.19,<4,>=3.0.7->streamlit)\n",
            "  Downloading gitdb-4.0.11-py3-none-any.whl (62 kB)\n",
            "\u001b[2K     \u001b[90m━━━━━━━━━━━━━━━━━━━━━━━━━━━━━━━━━━━━━━━━\u001b[0m \u001b[32m62.7/62.7 kB\u001b[0m \u001b[31m8.1 MB/s\u001b[0m eta \u001b[36m0:00:00\u001b[0m\n",
            "\u001b[?25hRequirement already satisfied: zipp>=0.5 in /usr/local/lib/python3.10/dist-packages (from importlib-metadata<7,>=1.4->streamlit) (3.17.0)\n",
            "Requirement already satisfied: pytz>=2020.1 in /usr/local/lib/python3.10/dist-packages (from pandas<3,>=1.3.0->streamlit) (2023.3.post1)\n",
            "Requirement already satisfied: six>=1.5 in /usr/local/lib/python3.10/dist-packages (from python-dateutil<3,>=2.7.3->streamlit) (1.16.0)\n",
            "Requirement already satisfied: charset-normalizer<4,>=2 in /usr/local/lib/python3.10/dist-packages (from requests<3,>=2.27->streamlit) (3.3.2)\n",
            "Requirement already satisfied: idna<4,>=2.5 in /usr/local/lib/python3.10/dist-packages (from requests<3,>=2.27->streamlit) (3.6)\n",
            "Requirement already satisfied: urllib3<3,>=1.21.1 in /usr/local/lib/python3.10/dist-packages (from requests<3,>=2.27->streamlit) (2.0.7)\n",
            "Requirement already satisfied: certifi>=2017.4.17 in /usr/local/lib/python3.10/dist-packages (from requests<3,>=2.27->streamlit) (2023.11.17)\n",
            "Requirement already satisfied: markdown-it-py>=2.2.0 in /usr/local/lib/python3.10/dist-packages (from rich<14,>=10.14.0->streamlit) (3.0.0)\n",
            "Requirement already satisfied: pygments<3.0.0,>=2.13.0 in /usr/local/lib/python3.10/dist-packages (from rich<14,>=10.14.0->streamlit) (2.16.1)\n",
            "Collecting smmap<6,>=3.0.1 (from gitdb<5,>=4.0.1->gitpython!=3.1.19,<4,>=3.0.7->streamlit)\n",
            "  Downloading smmap-5.0.1-py3-none-any.whl (24 kB)\n",
            "Requirement already satisfied: MarkupSafe>=2.0 in /usr/local/lib/python3.10/dist-packages (from jinja2->altair<6,>=4.0->streamlit) (2.1.3)\n",
            "Requirement already satisfied: attrs>=22.2.0 in /usr/local/lib/python3.10/dist-packages (from jsonschema>=3.0->altair<6,>=4.0->streamlit) (23.1.0)\n",
            "Requirement already satisfied: jsonschema-specifications>=2023.03.6 in /usr/local/lib/python3.10/dist-packages (from jsonschema>=3.0->altair<6,>=4.0->streamlit) (2023.11.2)\n",
            "Requirement already satisfied: referencing>=0.28.4 in /usr/local/lib/python3.10/dist-packages (from jsonschema>=3.0->altair<6,>=4.0->streamlit) (0.31.1)\n",
            "Requirement already satisfied: rpds-py>=0.7.1 in /usr/local/lib/python3.10/dist-packages (from jsonschema>=3.0->altair<6,>=4.0->streamlit) (0.13.2)\n",
            "Requirement already satisfied: mdurl~=0.1 in /usr/local/lib/python3.10/dist-packages (from markdown-it-py>=2.2.0->rich<14,>=10.14.0->streamlit) (0.1.2)\n",
            "Installing collected packages: watchdog, validators, smmap, importlib-metadata, pydeck, gitdb, gitpython, streamlit\n",
            "  Attempting uninstall: importlib-metadata\n",
            "    Found existing installation: importlib-metadata 7.0.0\n",
            "    Uninstalling importlib-metadata-7.0.0:\n",
            "      Successfully uninstalled importlib-metadata-7.0.0\n",
            "Successfully installed gitdb-4.0.11 gitpython-3.1.40 importlib-metadata-6.11.0 pydeck-0.8.1b0 smmap-5.0.1 streamlit-1.29.0 validators-0.22.0 watchdog-3.0.0\n"
          ]
        }
      ]
    },
    {
      "cell_type": "code",
      "source": [
        "!pip install forex-python"
      ],
      "metadata": {
        "colab": {
          "base_uri": "https://localhost:8080/"
        },
        "id": "d2PD9rw__s7D",
        "outputId": "87375d0d-4517-45ed-c914-34f7fb84014f"
      },
      "execution_count": null,
      "outputs": [
        {
          "output_type": "stream",
          "name": "stdout",
          "text": [
            "Collecting forex-python\n",
            "  Downloading forex_python-1.8-py3-none-any.whl (8.2 kB)\n",
            "Requirement already satisfied: requests in /usr/local/lib/python3.10/dist-packages (from forex-python) (2.31.0)\n",
            "Collecting simplejson (from forex-python)\n",
            "  Downloading simplejson-3.19.2-cp310-cp310-manylinux_2_5_x86_64.manylinux1_x86_64.manylinux_2_17_x86_64.manylinux2014_x86_64.whl (137 kB)\n",
            "\u001b[2K     \u001b[90m━━━━━━━━━━━━━━━━━━━━━━━━━━━━━━━━━━━━━━━━\u001b[0m \u001b[32m137.9/137.9 kB\u001b[0m \u001b[31m1.3 MB/s\u001b[0m eta \u001b[36m0:00:00\u001b[0m\n",
            "\u001b[?25hRequirement already satisfied: charset-normalizer<4,>=2 in /usr/local/lib/python3.10/dist-packages (from requests->forex-python) (3.3.2)\n",
            "Requirement already satisfied: idna<4,>=2.5 in /usr/local/lib/python3.10/dist-packages (from requests->forex-python) (3.6)\n",
            "Requirement already satisfied: urllib3<3,>=1.21.1 in /usr/local/lib/python3.10/dist-packages (from requests->forex-python) (2.0.7)\n",
            "Requirement already satisfied: certifi>=2017.4.17 in /usr/local/lib/python3.10/dist-packages (from requests->forex-python) (2023.11.17)\n",
            "Installing collected packages: simplejson, forex-python\n",
            "Successfully installed forex-python-1.8 simplejson-3.19.2\n"
          ]
        }
      ]
    },
    {
      "cell_type": "code",
      "source": [
        "%%writefile app.py\n",
        "import streamlit as st\n",
        "import joblib as joblib\n",
        "import pandas as pd\n",
        "import numpy as np\n",
        "from forex_python.converter import CurrencyRates\n",
        "\n",
        "cr = CurrencyRates()\n",
        "\n",
        "#cache\n",
        "#@st.cache(allow_output_mutation=True)\n",
        "\n",
        "def load_model():\n",
        "  model = loaded_model = joblib.load('/content/mymodel.joblib')\n",
        "  return model\n",
        "\n",
        "model = load_model()\n",
        "\n",
        "st.title(\"Lengyel Lakás ár Prediktor\")\n",
        "\n",
        "city = st.selectbox(\n",
        "    \"Város\",\n",
        "     (\"Varsó\",\"Krakkó\",\"Gdansk\",\"Szczecin\",\"Gdynia\",\"Poznań\",\"Białystok\",\"Boroszló\",\"Radom\",\"Rzeszów\",\"Łódź\",\"Katowice\",\"Lublin\",\"Częstochowa\",\"Bydgoszcz\"),\n",
        "     index=0)\n",
        "\n",
        "Type = st.radio('Típus:', ['Kertesház','Társasház','Panelház'], index=0)\n",
        "\n",
        "squareMeters = st.slider('Lakás terültete négyzetméterben', 10, 200, 105)\n",
        "\n",
        "rooms = st.slider('Szoba szám', 1, 10, 5)\n",
        "\n",
        "floor = st.slider('Az emelet ahol az ingatlan található', 1, 10, 5)\n",
        "\n",
        "floorCount = st.slider('Az épületben található emeletek száma', 1, 10, 5)\n",
        "\n",
        "buildYear = st.slider('Az épületben építésének éve', 1800, 2023, 1910)\n",
        "\n",
        "centreDistance = st.slider('A városközpont távolsága KM-ben', 0, 14, 7)\n",
        "\n",
        "schoolDistance = st.slider('A iskola távolsága méterben', 1, 500, 250)\n",
        "clinicDistance = st.slider('A kórház távolsága méterben', 1, 500, 250)\n",
        "postOfficeDistance = st.slider('A posta távolsága méterben', 1, 500, 250)\n",
        "kindergartenDistance = st.slider('A óvoda távolsága méterben', 1, 500, 250)\n",
        "restaurantDistance = st.slider('A étterem távolsága méterben', 1, 500, 250)\n",
        "collegeDistance = st.slider('A egyetem távolsága méterben', 1, 500, 250)\n",
        "pharmacyDistance = st.slider('A gyógyszertár távolsága méterben', 1, 500, 250)\n",
        "ownership = st.radio('Tulajdon', ['Lakásszövetkezet','Magántulajdon'], index=0)\n",
        "hasParkingSpace = st.radio('Van parkolóhely', ['Igen','Nem'], index=0)\n",
        "hasBalcony = st.radio('Van erkély', ['Igen','Nem'], index=0)\n",
        "hasElevator = st.radio('Van lift', ['Igen','Nem'], index=0)\n",
        "hasSecurity = st.radio('Van riasztó', ['Igen','Nem'], index=0)\n",
        "hasStorageRoom = st.radio('Van tároló', ['Igen','Nem'], index=0)\n",
        "\n",
        "bemenet = {'city': [city], 'type': [Type], 'squareMeters': [squareMeters],\n",
        " 'rooms': [rooms], 'floor': [floor], 'floorCount': [floorCount], 'buildYear': [buildYear],\n",
        " 'centreDistance': [centreDistance], 'schoolDistance': [schoolDistance], 'clinicDistance': [clinicDistance], 'postOfficeDistance': [postOfficeDistance],\n",
        " 'kindergartenDistance': [kindergartenDistance], 'restaurantDistance': [restaurantDistance], 'collegeDistance': [collegeDistance], 'pharmacyDistance': [pharmacyDistance],\n",
        " 'ownership': [ownership], 'hasParkingSpace': [hasParkingSpace], 'hasBalcony': [hasBalcony], 'hasElevator': [hasElevator],\n",
        " 'hasSecurity': [hasSecurity], 'hasStorageRoom': [hasStorageRoom],}\n",
        "\n",
        "df = pd.DataFrame(bemenet)\n",
        "\n",
        "#########################################################\n",
        "# Dictionaries for replacement\n",
        "\n",
        "Type={\n",
        "    'Kertesház':1,\n",
        "    'Társasház':2,\n",
        "    'Panelház':3,\n",
        "}\n",
        "\n",
        "city={\n",
        "    'Varsó':0,\n",
        "    'Krakkó':1,\n",
        "    'Gdansk':2,\n",
        "    'Szczecin':3,\n",
        "    'Gdynia':4,\n",
        "    'Poznań':5,\n",
        "    'Białystok':6,\n",
        "    'Boroszló':7,\n",
        "    'Radom':8,\n",
        "    'Rzeszów':9,\n",
        "    'Łódź':10,\n",
        "    'Katowice':11,\n",
        "    'Lublin':12,\n",
        "    'Częstochowa':13,\n",
        "    'Bydgoszcz':14,\n",
        "}\n",
        "\n",
        "ownership={\n",
        "    'Lakásszövetkezet':0,\n",
        "    'Magántulajdon':1,\n",
        "}\n",
        "\n",
        "hasParkingSpace={\n",
        "    'Nem':0,\n",
        "    'Igen':1\n",
        "}\n",
        "\n",
        "\n",
        "hasBalcony={\n",
        "    'Nem':0,\n",
        "    'Igen':1\n",
        "}\n",
        "hasElevator={\n",
        "    'Nem':0,\n",
        "    'Igen':1\n",
        "}\n",
        "hasSecurity={\n",
        "    'Nem':0,\n",
        "    'Igen':1\n",
        "}\n",
        "hasStorageRoom={\n",
        "    'Nem':0,\n",
        "    'Igen':1\n",
        "}\n",
        "df['ownership']=df['ownership'].replace(ownership)\n",
        "df['type']=df['type'].replace(Type)\n",
        "df['city']=df['city'].replace(city)\n",
        "df['hasParkingSpace']=df['hasParkingSpace'].replace(hasParkingSpace)\n",
        "df['hasBalcony']=df['hasBalcony'].replace(hasParkingSpace)\n",
        "df['hasElevator']=df['hasElevator'].replace(hasParkingSpace)\n",
        "df['hasSecurity']=df['hasSecurity'].replace(hasSecurity)\n",
        "df['hasStorageRoom']=df['hasStorageRoom'].replace(hasStorageRoom)\n",
        "\n",
        "def model_predict():\n",
        "  prediction = model.predict(df)\n",
        "  return prediction\n",
        "\n",
        "\n",
        "result = np.round(model_predict(), 0)\n",
        "result = cr.convert(\"PLN\", \"HUF\", result)\n",
        "st.text(\"Várható ingatlan ár: \" + str(int(result))+ \" HUF\")"
      ],
      "metadata": {
        "colab": {
          "base_uri": "https://localhost:8080/"
        },
        "id": "Qvn5eNCw63Yx",
        "outputId": "f9d7a6f2-df27-4812-ae20-a458c1957919"
      },
      "execution_count": null,
      "outputs": [
        {
          "output_type": "stream",
          "name": "stdout",
          "text": [
            "Writing app.py\n"
          ]
        }
      ]
    },
    {
      "cell_type": "code",
      "source": [
        "!pip install pyngrok"
      ],
      "metadata": {
        "colab": {
          "base_uri": "https://localhost:8080/"
        },
        "id": "KOSPATaamsQI",
        "outputId": "d5b5f22a-6601-4719-b686-67f2463180a0"
      },
      "execution_count": null,
      "outputs": [
        {
          "output_type": "stream",
          "name": "stdout",
          "text": [
            "Collecting pyngrok\n",
            "  Downloading pyngrok-7.0.3-py3-none-any.whl (21 kB)\n",
            "Requirement already satisfied: PyYAML in /usr/local/lib/python3.10/dist-packages (from pyngrok) (6.0.1)\n",
            "Installing collected packages: pyngrok\n",
            "Successfully installed pyngrok-7.0.3\n"
          ]
        }
      ]
    },
    {
      "cell_type": "code",
      "source": [
        "from pyngrok import ngrok\n",
        "ngrok.set_auth_token(\"2ZTycmw9F2uuSlVlD4yprOQvef9_851XgRqk9gPpSsCQiFb6g\")"
      ],
      "metadata": {
        "id": "kKEWguxsmuqn",
        "colab": {
          "base_uri": "https://localhost:8080/"
        },
        "outputId": "3197fc5b-3cb4-41a5-abe7-37f62a36024b"
      },
      "execution_count": null,
      "outputs": [
        {
          "output_type": "stream",
          "name": "stdout",
          "text": []
        }
      ]
    },
    {
      "cell_type": "code",
      "source": [
        "!nohup streamlit run app.py &"
      ],
      "metadata": {
        "colab": {
          "base_uri": "https://localhost:8080/"
        },
        "id": "dXktd7qho1S3",
        "outputId": "03ae920b-ccc4-4aad-9662-ffd70a8046d9"
      },
      "execution_count": null,
      "outputs": [
        {
          "output_type": "stream",
          "name": "stdout",
          "text": [
            "nohup: appending output to 'nohup.out'\n"
          ]
        }
      ]
    },
    {
      "cell_type": "code",
      "source": [
        "from pyngrok import ngrok\n",
        "url = ngrok.connect(8501)\n",
        "url"
      ],
      "metadata": {
        "colab": {
          "base_uri": "https://localhost:8080/"
        },
        "id": "K-yAvHmxpAbH",
        "outputId": "25c2e3a3-6efe-4304-fd5a-2f943123d8e1"
      },
      "execution_count": null,
      "outputs": [
        {
          "output_type": "execute_result",
          "data": {
            "text/plain": [
              "<NgrokTunnel: \"https://f326-34-132-48-14.ngrok-free.app\" -> \"http://localhost:8501\">"
            ]
          },
          "metadata": {},
          "execution_count": 42
        }
      ]
    },
    {
      "cell_type": "code",
      "source": [
        "!ngrok http --domain=thrush-special-perfectly.ngrok-free.app \"http://localhost:8501\""
      ],
      "metadata": {
        "colab": {
          "base_uri": "https://localhost:8080/"
        },
        "id": "HeqN62DopGR4",
        "outputId": "71d6c97a-38fe-41bb-ff2c-e720eaaeabac"
      },
      "execution_count": null,
      "outputs": [
        {
          "output_type": "stream",
          "name": "stdout",
          "text": [
            "NAME:\n",
            "  http - start an HTTP tunnel\n",
            "\n",
            "USAGE:\n",
            "  ngrok http [address:port | port] [flags]\n",
            "\n",
            "DESCRIPTION: \n",
            "  Starts a tunnel listening for HTTP/HTTPS traffic with a specific hostname.\n",
            "  The HTTP Host header on incoming public requests is inspected to\n",
            "  determine which tunnel it matches.\n",
            "\n",
            "  HTTPS endpoints terminate TLS traffic at the ngrok server using the\n",
            "  appropriate certificates. The decrypted, HTTP traffic is then forwarded\n",
            "  through the secure tunnel and then to your local server. If you don't want\n",
            "  your TLS traffic to terminate at the ngrok server, use a TLS or TCP tunnel.\n",
            "\n",
            "TERMS OF SERVICE: https://ngrok.com/tos\n",
            "\n",
            "EXAMPLES: \n",
            "  ngrok http 8080                             # forward ngrok subdomain to port 80\n",
            "  ngrok http example.com:9000                 # forward traffic to example.com:9000\n",
            "  ngrok http --domain=bar.ngrok.dev 80        # request subdomain name: 'bar.ngrok.dev'\n",
            "  ngrok http --domain=example.com 1234        # request tunnel 'example.com' (DNS CNAME)\n",
            "  ngrok http --basic-auth='falken:joshua' 80  # enforce basic auth on tunnel endpoint\n",
            "  ngrok http --host-header=example.com 80     # rewrite the Host header to 'example.com'\n",
            "  ngrok http file:///var/log                  # serve local files in /var/log\n",
            "  ngrok http https://localhost:8443           # forward to a local https server\n",
            "\n",
            "OPTIONS:\n",
            "      --app-protocol string              Set application protocol: 'http2'\n",
            "      --authtoken string                 ngrok.com authtoken identifying a user\n",
            "      --basic-auth strings               enforce basic auth on tunnel endpoint, 'user:password'\n",
            "      --cidr-allow strings               reject connections that do not match the given CIDRs\n",
            "      --cidr-deny strings                reject connections that match the given CIDRs\n",
            "      --circuit-breaker float            reject requests when 5XX responses exceed this ratio\n",
            "      --compression                      gzip compress http responses from your web service\n",
            "      --config strings                   path to config files; they are merged if multiple\n",
            "      --domain string                    host tunnel on a custom subdomain or hostname (requires DNS CNAME)\n",
            "  -h, --help                             help for http\n",
            "      --host-header string               set Host header; if 'rewrite' use local address hostname\n",
            "      --inspect                          enable/disable http introspection (default true) (default <nil>)\n",
            "      --log string                       path to log file, 'stdout', 'stderr' or 'false' (default \"false\")\n",
            "      --log-format string                log record format: 'term', 'logfmt', 'json' (default \"term\")\n",
            "      --log-level string                 logging level: 'debug', 'info', 'warn', 'error', 'crit' (default \"info\")\n",
            "      --mutual-tls-cas string            path to TLS certificate authority to verify client certs in mutual tls\n",
            "      --oauth string                     enforce authentication oauth provider on tunnel endpoint, e.g. 'google'\n",
            "      --oauth-allow-domain strings       allow only oauth users with these email domains\n",
            "      --oauth-allow-email strings        allow only oauth users with these emails\n",
            "      --oauth-client-id string           oauth app client id, optional\n",
            "      --oauth-client-secret string       oauth app client secret, optional\n",
            "      --oauth-scope strings              request these oauth scopes when users authenticate\n",
            "      --oidc string                      oidc issuer url, e.g. https://accounts.google.com\n",
            "      --oidc-client-id string            oidc app client id\n",
            "      --oidc-client-secret string        oidc app client secret\n",
            "      --oidc-scope strings               request these oidc scopes when users authenticate\n",
            "      --proxy-proto string               version of proxy proto to use with this tunnel, empty if not using\n",
            "      --request-header-add strings       header key:value to add to request\n",
            "      --request-header-remove strings    header field to remove from request if present\n",
            "      --response-header-add strings      header key:value to add to response\n",
            "      --response-header-remove strings   header field to remove from response if present\n",
            "      --scheme strings                   which schemes to listen on (default [https])\n",
            "      --ua-filter-allow strings          a list of regular expressions for user-agents to allow\n",
            "      --ua-filter-deny strings           a list of regular expressions for user-agents to deny\n",
            "      --upstream-tls-verify              enables TLS verification of server TLS certificates\n",
            "      --upstream-tls-verify-cas string   path to CA cert to use to verify server certs\n",
            "      --verify-webhook string            validate webhooks are signed by this provider, e.g. 'slack'\n",
            "      --verify-webhook-secret string     secret used by provider to sign webhooks, if any\n",
            "      --websocket-tcp-converter          convert ingress websocket connections to TCP upstream\n",
            "\n",
            "ERROR:  authentication failed: Your account is limited to 1 simultaneous ngrok agent session.\n",
            "ERROR:  You can run multiple tunnels on a single agent session using a configuration file.\n",
            "ERROR:  To learn more, see https://ngrok.com/docs/secure-tunnels/ngrok-agent/reference/config/\n",
            "ERROR:  \n",
            "ERROR:  Active ngrok agent sessions in region 'us':\n",
            "ERROR:    - ts_2ZWwIwBwDOBgSEb2TDFJZfHjiR9 (34.132.48.14)\r\n",
            "ERROR:  \r\n",
            "ERROR:  ERR_NGROK_108\r\n",
            "ERROR:  \n"
          ]
        }
      ]
    },
    {
      "cell_type": "code",
      "source": [
        "!cat /content/nohup.out"
      ],
      "metadata": {
        "id": "Xutxsvh5pHuO"
      },
      "execution_count": null,
      "outputs": []
    }
  ]
}